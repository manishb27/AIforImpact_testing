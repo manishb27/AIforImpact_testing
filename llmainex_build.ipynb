{
 "cells": [
  {
   "cell_type": "markdown",
   "metadata": {},
   "source": [
    "## In this notebook we are trying to create query engines of three different kind and also a functional tool for the llamaindex agent to use the tools smartly choose what ever it finds the best for the use case."
   ]
  },
  {
   "cell_type": "code",
   "execution_count": 3,
   "metadata": {},
   "outputs": [],
   "source": [
    "from llama_index.core import VectorStoreIndex, SimpleDirectoryReader\n",
    "from google.oauth2 import service_account\n",
    "from llama_index.llms.vertex import Vertex\n",
    "from llama_index.embeddings.gemini import GeminiEmbedding\n",
    "from llama_index.core import Settings\n",
    "\n",
    "# get API key and create embeddings\n",
    "from dotenv import load_dotenv\n",
    "import os\n",
    "load_dotenv()\n",
    "goog_api_key = os.getenv(\"GOOGLE_API_KEY\")\n",
    "\n",
    "\n",
    "# Replace with the path to your service account key file\n",
    "filename = \"key.json\"\n",
    "credentials = service_account.Credentials.from_service_account_file(filename)\n",
    "\n",
    "\n",
    "# Initialize the Vertex AI model\n",
    "llm = Vertex(\n",
    "    model=\"gemini-pro\",  # Specify the model, e.g., \"text-bison\" or \"gemini-pro\"\n",
    "    project=credentials.project_id,\n",
    "    credentials=credentials,\n",
    "    temperature=0.0,  # Adjust as needed\n",
    "    additional_kwargs={}\n",
    ")\n",
    "\n",
    "# setting the embed model\n",
    "model_name = \"models/text-embedding-004\"\n",
    "\n",
    "embed_model_gemini = GeminiEmbedding(\n",
    "    model_name=model_name, api_key=goog_api_key, title=\"this is a document\"\n",
    ")\n",
    "\n",
    "# setting the embed model\n",
    "Settings.embed_model = embed_model_gemini"
   ]
  },
  {
   "cell_type": "code",
   "execution_count": 4,
   "metadata": {},
   "outputs": [],
   "source": [
    "# Define folders for indexing\n",
    "folders = [\"organic_farming\", \"government_schemes\", \"packing_products\"]\n",
    "query_engines = {}\n",
    "\n",
    "for folder in folders:\n",
    "    # Load data and create index\n",
    "    documents = SimpleDirectoryReader(f\"data/{folder}\").load_data()\n",
    "    index = VectorStoreIndex.from_documents(documents)\n",
    "    index.storage_context.persist(persist_dir=f\"storage/{folder}\")\n",
    "    \n",
    "    # Create a query engine\n",
    "    query_engines[folder] = index.as_query_engine()\n"
   ]
  },
  {
   "cell_type": "code",
   "execution_count": 5,
   "metadata": {},
   "outputs": [
    {
     "data": {
      "text/plain": [
       "{'organic_farming': <llama_index.core.query_engine.retriever_query_engine.RetrieverQueryEngine at 0x17cc90090>,\n",
       " 'government_schemes': <llama_index.core.query_engine.retriever_query_engine.RetrieverQueryEngine at 0x17eca9550>,\n",
       " 'packing_products': <llama_index.core.query_engine.retriever_query_engine.RetrieverQueryEngine at 0x17ed38890>}"
      ]
     },
     "execution_count": 5,
     "metadata": {},
     "output_type": "execute_result"
    }
   ],
   "source": [
    "query_engines"
   ]
  },
  {
   "cell_type": "code",
   "execution_count": 6,
   "metadata": {},
   "outputs": [
    {
     "name": "stdout",
     "output_type": "stream",
     "text": [
      "Response from government schemes: The current government schemes for organic farming include the Paramparagat Krishi Vikas Yojana (PKVY), which is a central government initiative aimed at promoting organic farming through a cluster-based approach. This scheme supports the use of bio-fertilizers, compost, and other organic inputs to ensure long-term soil fertility and environmental conservation.\n"
     ]
    }
   ],
   "source": [
    "# Query specific engines\n",
    "query = \"What are the current government schemes for organic farming?\"\n",
    "response = query_engines[\"government_schemes\"].query(query)\n",
    "\n",
    "print(\"Response from government schemes:\", response.response)"
   ]
  },
  {
   "cell_type": "code",
   "execution_count": 9,
   "metadata": {},
   "outputs": [
    {
     "name": "stdout",
     "output_type": "stream",
     "text": [
      "The best crops to grow in this season would be those that benefit from crop diversity, promote soil fertility, and have a wide range of essential nutrients. Additionally, crops that can be grown using organic farming practices such as green manure, composting, crop rotation, cover cropping, and reduced tillage would be ideal choices. Legumes like soybeans, corn, and rice, along with fruits like bananas and coffee, could be good options to consider for planting in this season.\n"
     ]
    }
   ],
   "source": [
    "# Combine query response with weather info\n",
    "region = \"Rajasthan\"\n",
    "query = \"What are the best crops to grow in this season?\"\n",
    "response = query_engines[\"organic_farming\"].query(query)\n",
    "print(response.response)"
   ]
  },
  {
   "cell_type": "code",
   "execution_count": 10,
   "metadata": {},
   "outputs": [
    {
     "name": "stdout",
     "output_type": "stream",
     "text": [
      "Biodegradable Packaging, Recycled Paper Packaging, Compostable Bags, Molded Pulp Packaging, Bamboo Packaging, Edible Packaging, and Compostable Films are some of the best packing products for organic farming.\n"
     ]
    }
   ],
   "source": [
    "# questions about packing products\n",
    "query = \"What are the best packing products for organic farming?\"\n",
    "response = query_engines[\"packing_products\"].query(query)\n",
    "print(response.response)"
   ]
  },
  {
   "cell_type": "markdown",
   "metadata": {},
   "source": [
    "## working with tools"
   ]
  },
  {
   "cell_type": "code",
   "execution_count": 17,
   "metadata": {},
   "outputs": [],
   "source": [
    "from llama_index.core.tools import FunctionTool\n",
    "import requests\n",
    "\n",
    "# Tool to query vector indexes\n",
    "def query_index(folder, query):\n",
    "    storage_context = StorageContext.from_defaults(persist_dir=f\"storage/{folder}\")\n",
    "    index = load_index_from_storage(storage_context)\n",
    "    query_engine = index.as_query_engine()\n",
    "    response = query_engine.query(query)\n",
    "    return response.response\n",
    "\n",
    "# Create FunctionTool instances for each index\n",
    "index_tools = [\n",
    "    FunctionTool.from_defaults(\n",
    "        fn=lambda query, folder=folder: query_index(folder, query),\n",
    "        name=f\"query_{folder}_index\",\n",
    "        description=f\"Query the {folder.replace('_', ' ')} index.\"\n",
    "    )\n",
    "    for folder in folders\n",
    "]\n",
    "\n"
   ]
  },
  {
   "cell_type": "markdown",
   "metadata": {},
   "source": [
    "## creating the weather api for invoving it with the functional tools "
   ]
  },
  {
   "cell_type": "code",
   "execution_count": null,
   "metadata": {},
   "outputs": [],
   "source": [
    "import requests\n",
    "import os\n",
    "\n",
    "\n",
    "# Get API key from .env file\n",
    "API_KEY = os.getenv(\"OPENWEATHERMAP_API_KEY\")\n",
    "\n",
    "\n",
    "# Base URL for OpenWeatherMap API\n",
    "BASE_URL = os.getenv(\"OPENWEATHERMAP_BASE_URL\")\n",
    "\n",
    "def get_weather_data(city: str):\n",
    "    \"\"\"\n",
    "    Fetches weather data for a given city using OpenWeatherMap API.\n",
    "    \n",
    "    Args:\n",
    "        city (str): Name of the city to fetch weather for.\n",
    "    \n",
    "    Returns:\n",
    "        dict: Weather data for the city or error message.\n",
    "    \"\"\"\n",
    "    params = {\n",
    "        'q': city,\n",
    "        'appid': API_KEY,\n",
    "        'units': 'metric'  # Use 'imperial' for Fahrenheit\n",
    "    }\n",
    "    \n",
    "    try:\n",
    "        response = requests.get(BASE_URL, params=params)\n",
    "        response.raise_for_status()  # Raise HTTPError for bad responses (4xx and 5xx)\n",
    "        weather_data = response.json()\n",
    "        return weather_data\n",
    "    except requests.exceptions.RequestException as e:\n",
    "        return {\"error\": str(e)}\n"
   ]
  },
  {
   "cell_type": "code",
   "execution_count": 42,
   "metadata": {},
   "outputs": [
    {
     "data": {
      "text/plain": [
       "{'coord': {'lon': 78.0437, 'lat': 30.3256},\n",
       " 'weather': [{'id': 800,\n",
       "   'main': 'Clear',\n",
       "   'description': 'clear sky',\n",
       "   'icon': '01n'}],\n",
       " 'base': 'stations',\n",
       " 'main': {'temp': 11.19,\n",
       "  'feels_like': 9.2,\n",
       "  'temp_min': 11.19,\n",
       "  'temp_max': 11.19,\n",
       "  'pressure': 1018,\n",
       "  'humidity': 32,\n",
       "  'sea_level': 1018,\n",
       "  'grnd_level': 921},\n",
       " 'visibility': 10000,\n",
       " 'wind': {'speed': 2.48, 'deg': 38, 'gust': 1.95},\n",
       " 'clouds': {'all': 0},\n",
       " 'dt': 1734182967,\n",
       " 'sys': {'type': 1,\n",
       "  'id': 9162,\n",
       "  'country': 'IN',\n",
       "  'sunrise': 1734140187,\n",
       "  'sunset': 1734176927},\n",
       " 'timezone': 19800,\n",
       " 'id': 1273313,\n",
       " 'name': 'Dehradun',\n",
       " 'cod': 200}"
      ]
     },
     "execution_count": 42,
     "metadata": {},
     "output_type": "execute_result"
    }
   ],
   "source": [
    "get_weather_data(\"Dehradun\")"
   ]
  },
  {
   "cell_type": "code",
   "execution_count": 20,
   "metadata": {},
   "outputs": [],
   "source": [
    "from llama_index.core.tools import FunctionTool\n",
    "\n",
    "# Define the weather tool\n",
    "weather_tool = FunctionTool.from_defaults(\n",
    "    fn=get_weather_data,\n",
    "    name=\"get_weather\",\n",
    "    description=\"Fetch live weather data for a given city. Provide the city name as input.\"\n",
    ")\n"
   ]
  },
  {
   "cell_type": "code",
   "execution_count": 21,
   "metadata": {},
   "outputs": [],
   "source": [
    "# Combine all tools\n",
    "tools = index_tools + [weather_tool]"
   ]
  },
  {
   "cell_type": "code",
   "execution_count": null,
   "metadata": {},
   "outputs": [],
   "source": [
    "from llama_index.agent.openai import OpenAIAgent\n",
    "\n",
    "from llama_index.llms.openai import OpenAI\n",
    "\n",
    "...\n",
    "\n",
    "# initialize llm\n",
    "llm2 = OpenAI(model=\"gpt-4o-mini\")\n",
    "\n",
    "# Initialize the agent with tools and LLM\n",
    "agent = OpenAIAgent.from_tools(tools=tools, llm=llm2, verbose=True)\n"
   ]
  },
  {
   "cell_type": "code",
   "execution_count": 29,
   "metadata": {},
   "outputs": [],
   "source": [
    "query = \"how to grow tomatoes in winter in dehradun?\""
   ]
  },
  {
   "cell_type": "code",
   "execution_count": null,
   "metadata": {},
   "outputs": [],
   "source": [
    "response = agent.chat(query)"
   ]
  },
  {
   "cell_type": "code",
   "execution_count": 36,
   "metadata": {},
   "outputs": [
    {
     "name": "stdout",
     "output_type": "stream",
     "text": [
      "It seems there is an issue with retrieving specific information about growing tomatoes in winter in Dehradun. However, I can provide you with general tips on how to grow tomatoes in winter:\n",
      "\n",
      "1. **Choose the Right Variety**: Select cold-resistant tomato varieties that can thrive in lower temperatures.\n",
      "\n",
      "2. **Use Greenhouses or Row Covers**: Protect your plants from frost by using a greenhouse or row covers. This will help maintain a warmer environment.\n",
      "\n",
      "3. **Soil Preparation**: Ensure the soil is well-drained and rich in organic matter. You can add compost to improve soil fertility.\n",
      "\n",
      "4. **Planting**: Start seeds indoors and transplant them outside when the weather is suitable. If planting directly, ensure the soil temperature is warm enough.\n",
      "\n",
      "5. **Watering**: Water the plants regularly, but avoid overwatering. Ensure the soil remains moist but not soggy.\n",
      "\n",
      "6. **Fertilization**: Use a balanced fertilizer to provide essential nutrients. Fertilize every few weeks during the growing season.\n",
      "\n",
      "7. **Pest Control**: Keep an eye out for pests and diseases. Use organic pesticides if necessary.\n",
      "\n",
      "8. **Sunlight**: Ensure the plants receive adequate sunlight. If growing indoors, consider using grow lights.\n",
      "\n",
      "9. **Mulching**: Apply mulch around the plants to retain moisture and regulate soil temperature.\n",
      "\n",
      "10. **Harvesting**: Harvest tomatoes when they are fully ripe for the best flavor.\n",
      "\n",
      "If you need more specific information or resources, please let me know!\n"
     ]
    }
   ],
   "source": [
    "print(response.response)"
   ]
  },
  {
   "cell_type": "code",
   "execution_count": 38,
   "metadata": {},
   "outputs": [],
   "source": [
    "agent2 = OpenAIAgent.from_tools(\n",
    "    tools=tools,\n",
    "    llm=llm2,\n",
    "    system_prompt=(\n",
    "        \"You are an expert assistant for farmers. Respond to queries accurately and \"\n",
    "        \"format your answers according to the following guidelines when necessary: \\n\"\n",
    "        \"- For 'best practices' queries, list items with bullets.\\n\"\n",
    "        \"- For weather-related queries, provide data in a concise summary.\\n\"\n",
    "        \"- For government scheme queries, include eligibility, benefits, and how to apply.\"\n",
    "    ),\n",
    "    verbose=True\n",
    "\n",
    ")\n"
   ]
  },
  {
   "cell_type": "code",
   "execution_count": 39,
   "metadata": {},
   "outputs": [
    {
     "name": "stdout",
     "output_type": "stream",
     "text": [
      "Added user message to memory: how to grow tomatoes in winter in dehradun?\n"
     ]
    }
   ],
   "source": [
    "response = agent2.chat(query)"
   ]
  },
  {
   "cell_type": "code",
   "execution_count": 40,
   "metadata": {},
   "outputs": [
    {
     "data": {
      "text/plain": [
       "'Growing tomatoes in winter, especially in a region like Dehradun, requires careful planning and management. Here are some best practices to follow:\\n\\n- **Choose the Right Variety**: Select cold-tolerant tomato varieties that can withstand lower temperatures.\\n\\n- **Use Greenhouses or Polyhouses**: Protect your plants from frost and maintain a warmer environment by growing them in greenhouses or polyhouses.\\n\\n- **Soil Preparation**: Ensure well-drained, nutrient-rich soil. Incorporate organic matter like compost to improve soil quality.\\n\\n- **Temperature Control**: Use heating systems or row covers to maintain optimal temperatures, especially during the night.\\n\\n- **Watering**: Water the plants adequately but avoid overwatering. Ensure proper drainage to prevent root rot.\\n\\n- **Fertilization**: Use balanced fertilizers to promote healthy growth. Consider using organic fertilizers for better results.\\n\\n- **Pest Management**: Monitor for pests and diseases, and use organic pesticides if necessary to protect your plants.\\n\\n- **Pruning**: Regularly prune the plants to encourage better air circulation and sunlight penetration.\\n\\n- **Harvesting**: Harvest tomatoes when they are fully ripe for the best flavor.\\n\\nBy following these practices, you can successfully grow tomatoes during the winter months in Dehradun.'"
      ]
     },
     "execution_count": 40,
     "metadata": {},
     "output_type": "execute_result"
    }
   ],
   "source": [
    "response.response"
   ]
  },
  {
   "cell_type": "code",
   "execution_count": null,
   "metadata": {},
   "outputs": [],
   "source": []
  },
  {
   "cell_type": "markdown",
   "metadata": {},
   "source": [
    "## creating storage spaces for three different types of querstions and rag spaces"
   ]
  },
  {
   "cell_type": "code",
   "execution_count": null,
   "metadata": {},
   "outputs": [],
   "source": [
    "from llama_index import GPTVectorStoreIndex, StorageContext, SimpleDirectoryReader\n",
    "\n",
    "storage_contexts = {}\n",
    "\n",
    "# Load data and create index for each folder\n",
    "\n",
    "for folder in ['organic_farming', 'government_schemes', 'packing_products']:\n",
    "    documents = SimpleDirectoryReader(f\"data/{folder}\").load_data()\n",
    "    storage_context = StorageContext.from_defaults(persist_dir=f\"storage/{folder}\")\n",
    "    index = GPTVectorStoreIndex.from_documents(documents, storage_context=storage_context)\n",
    "    index.storage_context.persist()\n",
    "    storage_contexts[folder] = storage_context\n"
   ]
  },
  {
   "cell_type": "code",
   "execution_count": null,
   "metadata": {},
   "outputs": [],
   "source": [
    "from llama_index import load_index_from_storage\n",
    "\n",
    "# Load the indexes from storage\n",
    "def query_index(folder, query):\n",
    "    storage_context = StorageContext.from_defaults(persist_dir=f\"storage/{folder}\")\n",
    "    index = load_index_from_storage(storage_context)\n",
    "    query_engine = index.as_query_engine()\n",
    "    response = query_engine.query(query)\n",
    "    return response.response"
   ]
  },
  {
   "cell_type": "code",
   "execution_count": null,
   "metadata": {},
   "outputs": [],
   "source": [
    "import requests\n",
    "\n",
    "# Get API key from .env file\n",
    "def get_weather(region):\n",
    "    api_key = \"YOUR_OPENWEATHERMAP_API_KEY\"\n",
    "    url = f\"http://api.openweathermap.org/data/2.5/weather?q={region}&appid={api_key}\"\n",
    "    response = requests.get(url)\n",
    "    return response.json()\n"
   ]
  }
 ],
 "metadata": {
  "kernelspec": {
   "display_name": ".venv",
   "language": "python",
   "name": "python3"
  },
  "language_info": {
   "codemirror_mode": {
    "name": "ipython",
    "version": 3
   },
   "file_extension": ".py",
   "mimetype": "text/x-python",
   "name": "python",
   "nbconvert_exporter": "python",
   "pygments_lexer": "ipython3",
   "version": "3.11.7"
  }
 },
 "nbformat": 4,
 "nbformat_minor": 2
}
