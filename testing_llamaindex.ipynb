{
 "cells": [
  {
   "cell_type": "code",
   "execution_count": 2,
   "metadata": {},
   "outputs": [],
   "source": [
    "from google.oauth2 import service_account\n",
    "\n",
    "# Replace with the path to your service account key file\n",
    "filename = \"key.json\"\n",
    "credentials = service_account.Credentials.from_service_account_file(filename)\n"
   ]
  },
  {
   "cell_type": "code",
   "execution_count": 3,
   "metadata": {},
   "outputs": [],
   "source": [
    "from llama_index.llms.vertex import Vertex\n",
    "\n",
    "# Initialize the Vertex AI model\n",
    "llm = Vertex(\n",
    "    model=\"gemini-pro\",  # Specify the model, e.g., \"text-bison\" or \"gemini-pro\"\n",
    "    project=credentials.project_id,\n",
    "    credentials=credentials,\n",
    "    temperature=0.0,  # Adjust as needed\n",
    "    additional_kwargs={}\n",
    ")\n"
   ]
  },
  {
   "cell_type": "code",
   "execution_count": 4,
   "metadata": {},
   "outputs": [
    {
     "name": "stdout",
     "output_type": "stream",
     "text": [
      "Hello! I am happy to help you with your sample text. What would you like me to do with it? I can summarize it, translate it, answer questions about it, or even write a creative piece based on it. Just let me know what you need.\n"
     ]
    }
   ],
   "source": [
    "response = llm.complete(\"Hello, this is a sample text.\")\n",
    "print(response.text)\n"
   ]
  },
  {
   "cell_type": "code",
   "execution_count": 14,
   "metadata": {},
   "outputs": [
    {
     "name": "stdout",
     "output_type": "stream",
     "text": [
      "LLM Response: I do not have access to real-time information, including weather updates. To get the most accurate and up-to-date weather information for New York, I recommend checking a reliable weather source such as the National Weather Service or a local news station. \n",
      "\n",
      "Would you like me to try and find some weather information for you from a source that is not real-time? \n",
      "\n"
     ]
    }
   ],
   "source": [
    "# Define your custom function\n",
    "def get_weather(city):\n",
    "    return f\"The weather in {city} is sunny with a temperature of 25°C.\"\n",
    "\n",
    "# Function registry\n",
    "function_registry = {\n",
    "    \"get_weather\": get_weather,\n",
    "}\n",
    "\n",
    "# Function to call the appropriate function based on LLM output\n",
    "def call_function(func_name, args):\n",
    "    if func_name in function_registry:\n",
    "        return function_registry[func_name](*args)\n",
    "    else:\n",
    "        return f\"Function '{func_name}' not found!\"\n",
    "\n",
    "# Example usage\n",
    "query = \"What is the weather in New York?\"\n",
    "if \"get_weather\" in query.lower():\n",
    "    city = \"New York\"  # Extract dynamically in real scenarios\n",
    "    function_response = call_function(\"get_weather\", [city])\n",
    "    print(\"Function Response:\", function_response)\n",
    "else:\n",
    "    response = llm.complete(query)\n",
    "    print(\"LLM Response:\", response.text)\n"
   ]
  },
  {
   "cell_type": "code",
   "execution_count": 29,
   "metadata": {},
   "outputs": [
    {
     "name": "stdout",
     "output_type": "stream",
     "text": [
      "Bonjour ! 👋 \n",
      "\n",
      "Comment allez-vous aujourd'hui ? 😊\n"
     ]
    }
   ],
   "source": [
    "from llama_index.core.llms import ChatMessage, MessageRole\n",
    "\n",
    "# Initialize the chat model\n",
    "chat_llm = Vertex(model=\"gemini-pro\", project=credentials.project_id, credentials=credentials)\n",
    "\n",
    "# Define the conversation\n",
    "messages = [\n",
    "    ChatMessage(role=MessageRole.SYSTEM, content=\"Reply in French.\"),\n",
    "    ChatMessage(role=MessageRole.USER, content=\"Hello\"),\n",
    "]\n",
    "\n",
    "# Generate a response\n",
    "chat_response = chat_llm.chat(messages=messages)\n",
    "print(chat_response.message.content)\n"
   ]
  },
  {
   "cell_type": "code",
   "execution_count": null,
   "metadata": {},
   "outputs": [],
   "source": [
    "# Example function to retrieve weather data\n",
    "def get_weather(city):\n",
    "    return f\"The weather in {city} is sunny with a temperature of 25°C.\"\n",
    "\n",
    "# Example function to retrieve stock prices\n",
    "def get_stock_price(symbol):\n",
    "    return f\"The current stock price of {symbol} is $150.\"\n",
    "\n",
    "# Registry to map function names to callable functions\n",
    "function_registry = {\n",
    "    \"get_weather\": get_weather,\n",
    "    \"get_stock_price\": get_stock_price,\n",
    "}\n",
    "\n",
    "# Function to call appropriate tool\n",
    "def call_function(func_name, args):\n",
    "    if func_name in function_registry:\n",
    "        return function_registry[func_name](*args)\n",
    "    else:\n",
    "        return f\"Function '{func_name}' not found!\"\n"
   ]
  },
  {
   "cell_type": "code",
   "execution_count": null,
   "metadata": {},
   "outputs": [],
   "source": [
    "from llama_index.core.llms import ChatMessage, MessageRole\n",
    "\n",
    "# Define a chat session\n",
    "def chat_with_tools(messages):\n",
    "    response = chat_model.chat(messages)\n",
    "    return response.message[\"content\"], response.message.get(\"function_call\")\n",
    "\n",
    "# Example chat session\n",
    "messages = [\n",
    "    ChatMessage(role=MessageRole.SYSTEM, content=\"You can retrieve weather or stock prices.\"),\n",
    "    ChatMessage(role=MessageRole.USER, content=\"What is the weather in New York?\")\n",
    "]\n",
    "\n",
    "response, function_call = chat_with_tools(messages)\n",
    "\n",
    "# Handle function calls\n",
    "if function_call:\n",
    "    func_name = function_call[\"name\"]\n",
    "    func_args = eval(function_call[\"arguments\"])  # Safely parse arguments\n",
    "    function_response = call_function(func_name, func_args)\n",
    "    print(f\"Function Response: {function_response}\")\n",
    "else:\n",
    "    print(f\"Chat Response: {response}\")\n"
   ]
  },
  {
   "cell_type": "code",
   "execution_count": null,
   "metadata": {},
   "outputs": [],
   "source": [
    "def process_query(query):\n",
    "    messages = [\n",
    "        ChatMessage(role=MessageRole.SYSTEM, content=\"You can call functions for data retrieval.\"),\n",
    "        ChatMessage(role=MessageRole.USER, content=query)\n",
    "    ]\n",
    "\n",
    "    response, function_call = chat_with_tools(messages)\n",
    "\n",
    "    if function_call:\n",
    "        func_name = function_call[\"name\"]\n",
    "        func_args = eval(function_call[\"arguments\"])\n",
    "        return call_function(func_name, func_args)\n",
    "    return response\n",
    "\n",
    "# Test queries\n",
    "print(process_query(\"Get the weather in San Francisco.\"))\n",
    "print(process_query(\"Tell me the stock price of AAPL.\"))\n"
   ]
  },
  {
   "cell_type": "code",
   "execution_count": 5,
   "metadata": {},
   "outputs": [],
   "source": [
    "import requests\n",
    "from dotenv import load_dotenv\n",
    "load_dotenv()\n",
    "import os\n",
    "api_key = os.getenv(\"GeoCoordinates_api_key\")"
   ]
  },
  {
   "cell_type": "code",
   "execution_count": 6,
   "metadata": {},
   "outputs": [],
   "source": [
    "import requests\n",
    "from dotenv import load_dotenv\n",
    "load_dotenv()\n",
    "import os\n",
    "api_key = os.getenv(\"GeoCoordinates_api_key\")\n",
    "\n",
    "def get_coordinates(api_key, location):\n",
    "    \"\"\"\n",
    "    Get latitude and longitude of a location using Google Maps Geocoding API.\n",
    "\n",
    "    Args:\n",
    "        api_key (str): Your Google Maps API key.\n",
    "        location (str): The location name or address.\n",
    "\n",
    "    Returns:\n",
    "        dict: A dictionary with 'latitude' and 'longitude'.\n",
    "    \"\"\"\n",
    "    url = f\"https://maps.googleapis.com/maps/api/geocode/json\"\n",
    "    params = {\n",
    "        \"address\": location,\n",
    "        \"key\": api_key\n",
    "    }\n",
    "    response = requests.get(url, params=params)\n",
    "    \n",
    "    if response.status_code == 200:\n",
    "        data = response.json()\n",
    "        if data['status'] == 'OK':\n",
    "            result = data['results'][0]\n",
    "            coordinates = result['geometry']['location']\n",
    "            return {\n",
    "                \"latitude\": coordinates['lat'],\n",
    "                \"longitude\": coordinates['lng']\n",
    "            }\n",
    "        else:\n",
    "            raise Exception(f\"Error from API: {data['status']}\")\n",
    "    else:\n",
    "        raise Exception(f\"HTTP Error: {response.status_code}\")\n",
    "\n",
    "\n",
    "\n",
    "import requests\n",
    "\n",
    "def get_location_from_coordinates(api_key, latitude, longitude):\n",
    "    \"\"\"\n",
    "    Get location (city, state, country) from latitude and longitude using Google Maps API.\n",
    "\n",
    "    Args:\n",
    "        api_key (str): Your Google Maps API key.\n",
    "        latitude (float): Latitude of the location.\n",
    "        longitude (float): Longitude of the location.\n",
    "\n",
    "    Returns:\n",
    "        str: A formatted address or city name.\n",
    "    \"\"\"\n",
    "    url = f\"https://maps.googleapis.com/maps/api/geocode/json\"\n",
    "    params = {\n",
    "        \"latlng\": f\"{latitude},{longitude}\",\n",
    "        \"key\": api_key\n",
    "    }\n",
    "    response = requests.get(url, params=params)\n",
    "    \n",
    "    if response.status_code == 200:\n",
    "        data = response.json()\n",
    "        if data['status'] == 'OK':\n",
    "            # Extract the formatted address\n",
    "            result = data['results'][0]\n",
    "            address = result['formatted_address']\n",
    "            return address\n",
    "        else:\n",
    "            raise Exception(f\"Error from API: {data['status']}\")\n",
    "    else:\n",
    "        raise Exception(f\"HTTP Error: {response.status_code}\")"
   ]
  },
  {
   "cell_type": "code",
   "execution_count": 7,
   "metadata": {},
   "outputs": [],
   "source": [
    "import requests\n",
    "\n",
    "# Function to get coordinates from a location\n",
    "def get_coordinates(api_key, location):\n",
    "    \"\"\"\n",
    "    Get latitude and longitude of a location using Google Maps Geocoding API.\n",
    "\n",
    "    Args:\n",
    "        api_key (str): Your Google Maps API key.\n",
    "        location (str): The location name or address.\n",
    "\n",
    "    Returns:\n",
    "        dict: A dictionary with 'latitude' and 'longitude'.\n",
    "    \"\"\"\n",
    "    url = \"https://maps.googleapis.com/maps/api/geocode/json\"\n",
    "    params = {\"address\": location, \"key\": api_key}\n",
    "    response = requests.get(url, params=params)\n",
    "\n",
    "    if response.status_code == 200:\n",
    "        data = response.json()\n",
    "        if data['status'] == 'OK':\n",
    "            result = data['results'][0]\n",
    "            coordinates = result['geometry']['location']\n",
    "            return {\"latitude\": coordinates['lat'], \"longitude\": coordinates['lng']}\n",
    "        else:\n",
    "            return {\"error\": f\"Error from API: {data['status']}\"}\n",
    "    else:\n",
    "        return {\"error\": f\"HTTP Error: {response.status_code}\"}\n",
    "\n",
    "\n",
    "# Function to get location from coordinates\n",
    "def get_location_from_coordinates(api_key, latitude, longitude):\n",
    "    \"\"\"\n",
    "    Get location (city, state, country) from latitude and longitude using Google Maps API.\n",
    "\n",
    "    Args:\n",
    "        api_key (str): Your Google Maps API key.\n",
    "        latitude (float): Latitude of the location.\n",
    "        longitude (float): Longitude of the location.\n",
    "\n",
    "    Returns:\n",
    "        str: A formatted address or city name.\n",
    "    \"\"\"\n",
    "    url = \"https://maps.googleapis.com/maps/api/geocode/json\"\n",
    "    params = {\"latlng\": f\"{latitude},{longitude}\", \"key\": api_key}\n",
    "    response = requests.get(url, params=params)\n",
    "\n",
    "    if response.status_code == 200:\n",
    "        data = response.json()\n",
    "        if data['status'] == 'OK':\n",
    "            result = data['results'][0]\n",
    "            return result['formatted_address']\n",
    "        else:\n",
    "            return {\"error\": f\"Error from API: {data['status']}\"}\n",
    "    else:\n",
    "        return {\"error\": f\"HTTP Error: {response.status_code}\"}\n",
    "\n",
    "# Function registry\n",
    "function_registry = {\n",
    "    \"get_coordinates\": get_coordinates,\n",
    "    \"get_location_from_coordinates\": get_location_from_coordinates,\n",
    "}\n",
    "\n",
    "# Function caller\n",
    "def call_function(func_name, args):\n",
    "    if func_name in function_registry:\n",
    "        return function_registry[func_name](*args)\n",
    "    else:\n",
    "        return {\"error\": f\"Function '{func_name}' not found!\"}\n",
    "\n"
   ]
  },
  {
   "cell_type": "code",
   "execution_count": 9,
   "metadata": {},
   "outputs": [
    {
     "name": "stdout",
     "output_type": "stream",
     "text": [
      "{'error': 'Error from API: REQUEST_DENIED'}\n"
     ]
    }
   ],
   "source": [
    "# try the fucntions\n",
    "print(call_function(\"get_coordinates\", [api_key, \"New York\"]))\n"
   ]
  },
  {
   "cell_type": "code",
   "execution_count": 30,
   "metadata": {},
   "outputs": [],
   "source": [
    "from llama_index.core.llms import ChatMessage, MessageRole\n",
    "from llama_index.llms.vertex import Vertex\n",
    "\n",
    "# Initialize Vertex AI chat model\n",
    "def initialize_chat_model(credentials):\n",
    "    return Vertex(\n",
    "        model=\"gemini-pro\",\n",
    "        project=credentials.project_id,\n",
    "        credentials=credentials,\n",
    "        temperature=0.7\n",
    "    )\n",
    "\n",
    "# Chat with function integration\n",
    "def chat_with_tools(chat_model, api_key, user_query):\n",
    "    messages = [\n",
    "        ChatMessage(role=MessageRole.SYSTEM, content=\"You can retrieve geographic information.\"),\n",
    "        ChatMessage(role=MessageRole.USER, content=user_query)\n",
    "    ]\n",
    "\n",
    "    response = chat_model.chat(messages)\n",
    "    content = response.message[\"content\"]\n",
    "    function_call = response.message.get(\"function_call\")\n",
    "\n",
    "    if function_call:\n",
    "        func_name = function_call[\"name\"]\n",
    "        args = eval(function_call[\"arguments\"])  # Parse arguments safely\n",
    "        args.append(api_key)  # Append the API key as the last argument\n",
    "        return call_function(func_name, args)\n",
    "    else:\n",
    "        return {\"response\": content}\n"
   ]
  },
  {
   "cell_type": "code",
   "execution_count": null,
   "metadata": {},
   "outputs": [],
   "source": [
    "def chat_with_tools(chat_model, api_key, user_query):\n",
    "    messages = [\n",
    "        ChatMessage(role=MessageRole.SYSTEM, content=\"You can retrieve geographic information.\"),\n",
    "        ChatMessage(role=MessageRole.USER, content=user_query)\n",
    "    ]\n",
    "\n",
    "    # Send messages to chat model\n",
    "    response = chat_model.chat(messages)\n",
    "\n",
    "    return response\n",
    "\n",
    "   "
   ]
  },
  {
   "cell_type": "code",
   "execution_count": 52,
   "metadata": {},
   "outputs": [],
   "source": [
    "\n",
    "chat_model = initialize_chat_model(credentials)"
   ]
  },
  {
   "cell_type": "code",
   "execution_count": null,
   "metadata": {},
   "outputs": [
    {
     "data": {
      "text/plain": [
       "ChatResponse(message=ChatMessage(role=<MessageRole.ASSISTANT: 'assistant'>, additional_kwargs={'tool_calls': []}, blocks=[TextBlock(block_type='text', text='The coordinates of New York City are 40.7128° N, 74.0060° W.')]), raw={'_raw_response': candidates {\n",
       "  content {\n",
       "    role: \"model\"\n",
       "    parts {\n",
       "      text: \"The coordinates of New York City are 40.7128° N, 74.0060° W.\"\n",
       "    }\n",
       "  }\n",
       "  finish_reason: STOP\n",
       "  safety_ratings {\n",
       "    category: HARM_CATEGORY_HATE_SPEECH\n",
       "    probability: NEGLIGIBLE\n",
       "    probability_score: 0.0402832031\n",
       "    severity: HARM_SEVERITY_NEGLIGIBLE\n",
       "    severity_score: 0.0942382812\n",
       "  }\n",
       "  safety_ratings {\n",
       "    category: HARM_CATEGORY_DANGEROUS_CONTENT\n",
       "    probability: NEGLIGIBLE\n",
       "    probability_score: 0.166015625\n",
       "    severity: HARM_SEVERITY_NEGLIGIBLE\n",
       "    severity_score: 0.0549316406\n",
       "  }\n",
       "  safety_ratings {\n",
       "    category: HARM_CATEGORY_HARASSMENT\n",
       "    probability: NEGLIGIBLE\n",
       "    probability_score: 0.099609375\n",
       "    severity: HARM_SEVERITY_NEGLIGIBLE\n",
       "    severity_score: 0.0673828125\n",
       "  }\n",
       "  safety_ratings {\n",
       "    category: HARM_CATEGORY_SEXUALLY_EXPLICIT\n",
       "    probability: NEGLIGIBLE\n",
       "    probability_score: 0.0510253906\n",
       "    severity: HARM_SEVERITY_NEGLIGIBLE\n",
       "    severity_score: 0.0791015625\n",
       "  }\n",
       "  avg_logprobs: -0.015082487772250998\n",
       "}\n",
       "usage_metadata {\n",
       "  prompt_token_count: 15\n",
       "  candidates_token_count: 29\n",
       "  total_token_count: 44\n",
       "}\n",
       "model_version: \"gemini-1.0-pro-002\"\n",
       "}, delta=None, logprobs=None, additional_kwargs={})"
      ]
     },
     "execution_count": 53,
     "metadata": {},
     "output_type": "execute_result"
    }
   ],
   "source": [
    "# Test 1: Get coordinates\n",
    "query1 = \"What are the coordinates of New York?\"\n",
    "result1= chat_with_tools(chat_model, api_key, query1)\n"
   ]
  },
  {
   "cell_type": "code",
   "execution_count": null,
   "metadata": {},
   "outputs": [],
   "source": [
    "result1.con"
   ]
  },
  {
   "cell_type": "code",
   "execution_count": 44,
   "metadata": {},
   "outputs": [
    {
     "name": "stdout",
     "output_type": "stream",
     "text": [
      "Debug Response: assistant: The coordinates you provided, latitude 40.7128 and longitude -74.0060, correspond to **New York City, New York, USA**. More specifically, they point to a location in Lower Manhattan, near the intersection of Broadway and Wall Street. This area is known for its financial institutions, historical landmarks, and bustling atmosphere. \n",
      "\n",
      "Here are some of the notable landmarks located near these coordinates:\n",
      "\n",
      "* **The World Trade Center**: This iconic skyscraper complex includes the One World Trade Center, the tallest building in the Western Hemisphere. \n",
      "* **The 9/11 Memorial & Museum**: This poignant site commemorates the victims of the September 11th terrorist attacks.\n",
      "* **The Charging Bull**: This bronze sculpture is a popular tourist destination and symbol of Wall Street's financial power.\n",
      "* **Battery Park**: This waterfront park offers stunning views of the Statue of Liberty and the New York Harbor.\n",
      "* **The New York Stock Exchange**: This historic building is the world's largest stock exchange.\n",
      "\n",
      "If you're interested in learning more about this specific location or other places in New York City, I can provide you with additional information. Just let me know what you'd like to know.\n",
      "Result 2: {'error': 'Unable to process response structure.'}\n"
     ]
    }
   ],
   "source": [
    "# Test 2: Get location from coordinates\n",
    "query2 = \"What location corresponds to latitude 40.7128 and longitude -74.0060?\"\n",
    "result2 = chat_with_tools(chat_model, api_key, query2)\n",
    "print(\"Result 2:\", result2)"
   ]
  },
  {
   "cell_type": "code",
   "execution_count": null,
   "metadata": {},
   "outputs": [],
   "source": []
  },
  {
   "cell_type": "markdown",
   "metadata": {},
   "source": [
    "# tesing firbase functions "
   ]
  },
  {
   "cell_type": "code",
   "execution_count": 17,
   "metadata": {},
   "outputs": [],
   "source": [
    "from pydantic import BaseModel\n",
    "from typing import Optional, Dict, List\n",
    "import csv\n",
    "import firebase_admin\n",
    "from firebase_admin import credentials, firestore\n",
    "from datetime import datetime\n",
    "# from geopy.distance import geodesic\n",
    "\n",
    "import io"
   ]
  },
  {
   "cell_type": "code",
   "execution_count": null,
   "metadata": {},
   "outputs": [],
   "source": [
    "# Initialize Firebase\n",
    "cred = credentials.Certificate('key_firebase.json')\n",
    "firebase_admin.initialize_app(cred)\n",
    "db = firestore.client()"
   ]
  },
  {
   "cell_type": "code",
   "execution_count": 19,
   "metadata": {},
   "outputs": [],
   "source": [
    "# Helper functions\n",
    "def serialize_firestore_document(doc):\n",
    "    data = doc.to_dict()\n",
    "    data['id']=doc.id\n",
    "    for key, value in data.items():\n",
    "        if isinstance(value, firestore.GeoPoint):\n",
    "            data[key] = {\n",
    "                \"latitude\": value.latitude,\n",
    "                \"longitude\": value.longitude\n",
    "            }\n",
    "    return data\n",
    "\n",
    "def is_within_radius(center, point, radius_km):\n",
    "    center_coords = (center[\"latitude\"], center[\"longitude\"])\n",
    "    point_coords = (point[\"latitude\"], point[\"longitude\"])\n",
    "    return geodesic(center_coords, point_coords).km <= radius_km\n",
    "\n",
    "# Pydantic schema\n",
    "class ProductSchema(BaseModel):\n",
    "    name: str\n",
    "    description: str\n",
    "    price: float\n",
    "    quantity: int\n",
    "    location: Optional[Dict[str, float]]\n"
   ]
  },
  {
   "cell_type": "code",
   "execution_count": 20,
   "metadata": {},
   "outputs": [],
   "source": [
    "def get_all_products():\n",
    "    try:\n",
    "        products = db.collection('products').stream()\n",
    "        product_list = [serialize_firestore_document(doc) for doc in products]\n",
    "        return product_list\n",
    "    except Exception as e:\n",
    "        raise HTTPException(status_code=500, detail=str(e))\n"
   ]
  },
  {
   "cell_type": "code",
   "execution_count": 33,
   "metadata": {},
   "outputs": [],
   "source": [
    "api_key = os.getenv(\"GeoCoordinates_api_key\")"
   ]
  },
  {
   "cell_type": "code",
   "execution_count": 34,
   "metadata": {},
   "outputs": [],
   "source": [
    "import requests\n",
    "\n",
    "# Function to get coordinates from a location\n",
    "def get_coordinates(api_key, location):\n",
    "    \"\"\"\n",
    "    Get latitude and longitude of a location using Google Maps Geocoding API.\n",
    "\n",
    "    Args:\n",
    "        api_key (str): Your Google Maps API key.\n",
    "        location (str): The location name or address.\n",
    "\n",
    "    Returns:\n",
    "        dict: A dictionary with 'latitude' and 'longitude'.\n",
    "    \"\"\"\n",
    "    url = \"https://maps.googleapis.com/maps/api/geocode/json\"\n",
    "    params = {\"address\": location, \"key\": api_key}\n",
    "    response = requests.get(url, params=params)\n",
    "\n",
    "    if response.status_code == 200:\n",
    "        data = response.json()\n",
    "        if data['status'] == 'OK':\n",
    "            result = data['results'][0]\n",
    "            coordinates = result['geometry']['location']\n",
    "            return {\"latitude\": coordinates['lat'], \"longitude\": coordinates['lng']}\n",
    "        else:\n",
    "            return {\"error\": f\"Error from API: {data['status']}\"}\n",
    "    else:\n",
    "        return {\"error\": f\"HTTP Error: {response.status_code}\"}\n",
    "\n",
    "\n",
    "# Function to get location from coordinates\n",
    "def get_location_from_coordinates(api_key, latitude, longitude):\n",
    "    \"\"\"\n",
    "    Get location (city, state, country) from latitude and longitude using Google Maps API.\n",
    "\n",
    "    Args:\n",
    "        api_key (str): Your Google Maps API key.\n",
    "        latitude (float): Latitude of the location.\n",
    "        longitude (float): Longitude of the location.\n",
    "\n",
    "    Returns:\n",
    "        str: A formatted address or city name.\n",
    "    \"\"\"\n",
    "    url = \"https://maps.googleapis.com/maps/api/geocode/json\"\n",
    "    params = {\"latlng\": f\"{latitude},{longitude}\", \"key\": api_key}\n",
    "    response = requests.get(url, params=params)\n",
    "\n",
    "    if response.status_code == 200:\n",
    "        data = response.json()\n",
    "        if data['status'] == 'OK':\n",
    "            result = data['results'][0]\n",
    "            return result['formatted_address']\n",
    "        else:\n",
    "            return {\"error\": f\"Error from API: {data['status']}\"}\n",
    "    else:\n",
    "        return {\"error\": f\"HTTP Error: {response.status_code}\"}\n",
    "\n",
    "# Function registry\n",
    "function_registry = {\n",
    "    \"get_coordinates\": get_coordinates,\n",
    "    \"get_location_from_coordinates\": get_location_from_coordinates,\n",
    "}\n",
    "\n",
    "# Function caller\n",
    "def call_function(func_name, args):\n",
    "    if func_name in function_registry:\n",
    "        return function_registry[func_name](*args)\n",
    "    else:\n",
    "        return {\"error\": f\"Function '{func_name}' not found!\"}\n",
    "\n"
   ]
  },
  {
   "cell_type": "code",
   "execution_count": null,
   "metadata": {},
   "outputs": [],
   "source": []
  },
  {
   "cell_type": "code",
   "execution_count": null,
   "metadata": {},
   "outputs": [],
   "source": []
  },
  {
   "cell_type": "code",
   "execution_count": null,
   "metadata": {},
   "outputs": [],
   "source": []
  },
  {
   "cell_type": "code",
   "execution_count": null,
   "metadata": {},
   "outputs": [],
   "source": []
  }
 ],
 "metadata": {
  "kernelspec": {
   "display_name": ".venv",
   "language": "python",
   "name": "python3"
  },
  "language_info": {
   "codemirror_mode": {
    "name": "ipython",
    "version": 3
   },
   "file_extension": ".py",
   "mimetype": "text/x-python",
   "name": "python",
   "nbconvert_exporter": "python",
   "pygments_lexer": "ipython3",
   "version": "3.11.7"
  }
 },
 "nbformat": 4,
 "nbformat_minor": 2
}
