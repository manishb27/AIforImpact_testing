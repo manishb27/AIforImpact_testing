{
 "cells": [
  {
   "cell_type": "markdown",
   "metadata": {},
   "source": [
    "# We are testing the vertexAI for llm and embeddings for Rag systems"
   ]
  },
  {
   "cell_type": "code",
   "execution_count": null,
   "metadata": {},
   "outputs": [],
   "source": [
    "# importing the required libraries\n",
    "from llama_index.core import VectorStoreIndex, SimpleDirectoryReader\n",
    "from google.oauth2 import service_account\n",
    "\n",
    "# Replace with the path to your service account key file\n",
    "filename = \"key.json\"\n",
    "credentials = service_account.Credentials.from_service_account_file(filename)\n",
    "from llama_index.llms.vertex import Vertex\n",
    "\n",
    "# Initialize the Vertex AI model\n",
    "llm = Vertex(\n",
    "    model=\"gemini-pro\",  # Specify the model, e.g., \"text-bison\" or \"gemini-pro\"\n",
    "    project=credentials.project_id,\n",
    "    credentials=credentials,\n",
    "    temperature=0.0,  # Adjust as needed\n",
    "    additional_kwargs={}\n",
    ")"
   ]
  },
  {
   "cell_type": "code",
   "execution_count": null,
   "metadata": {},
   "outputs": [
    {
     "name": "stderr",
     "output_type": "stream",
     "text": [
      "/Users/manishb27/Desktop/KisaanCompanion/.venv/lib/python3.11/site-packages/tqdm/auto.py:21: TqdmWarning: IProgress not found. Please update jupyter and ipywidgets. See https://ipywidgets.readthedocs.io/en/stable/user_install.html\n",
      "  from .autonotebook import tqdm as notebook_tqdm\n"
     ]
    }
   ],
   "source": [
    "# get API key and create embeddings\n",
    "from dotenv import load_dotenv\n",
    "import os\n",
    "load_dotenv()\n",
    "goog_api_key = os.getenv(\"GOOGLE_API_KEY\")\n",
    "\n",
    "# imports for embeddings\n",
    "from llama_index.embeddings.gemini import GeminiEmbedding\n",
    "from llama_index.core import Settings\n",
    "\n",
    "model_name = \"models/embedding-004\"\n",
    "\n",
    "# Create the embedding model\n",
    "embed_model_gemini = GeminiEmbedding(\n",
    "    model_name=model_name, api_key=goog_api_key, title=\"this is a document\"\n",
    ")\n",
    "\n",
    "# Set the embedding model\n",
    "Settings.embed_model = embed_model_gemini"
   ]
  },
  {
   "cell_type": "code",
   "execution_count": null,
   "metadata": {},
   "outputs": [],
   "source": [
    "# Load the data from the directory\n",
    "from llama_index.core import VectorStoreIndex, SimpleDirectoryReader\n",
    "documents = SimpleDirectoryReader(\"./data\").load_data()\n",
    "\n",
    "# Create the index\n",
    "index = VectorStoreIndex.from_documents(documents, llm=llm)"
   ]
  },
  {
   "cell_type": "code",
   "execution_count": null,
   "metadata": {},
   "outputs": [
    {
     "data": {
      "text/plain": [
       "Response(response='The core principle of organic production is to avoid the use of artificial substances in the food production process. This means that organic farmers must rely on natural methods for fertilization, pest control, and weed suppression. Organic farming also emphasizes the importance of biodiversity and soil health.', source_nodes=[NodeWithScore(node=TextNode(id_='c346be82-3fb7-4766-9a8e-db4550083f54', embedding=None, metadata={'file_path': '/Users/manishb27/Desktop/KisaanCompanion/data/ogranicFarming.txt', 'file_name': 'ogranicFarming.txt', 'file_type': 'text/plain', 'file_size': 81991, 'creation_date': '2024-12-14', 'last_modified_date': '2024-12-14'}, excluded_embed_metadata_keys=['file_name', 'file_type', 'file_size', 'creation_date', 'last_modified_date', 'last_accessed_date'], excluded_llm_metadata_keys=['file_name', 'file_type', 'file_size', 'creation_date', 'last_modified_date', 'last_accessed_date'], relationships={<NodeRelationship.SOURCE: '1'>: RelatedNodeInfo(node_id='d1617a3e-4ebb-45d0-b7c4-5169e26bda90', node_type='4', metadata={'file_path': '/Users/manishb27/Desktop/KisaanCompanion/data/ogranicFarming.txt', 'file_name': 'ogranicFarming.txt', 'file_type': 'text/plain', 'file_size': 81991, 'creation_date': '2024-12-14', 'last_modified_date': '2024-12-14'}, hash='f42abf9f86312e14cc344f95122c95d54216ec72b569a1759e157e11f1d328ee'), <NodeRelationship.PREVIOUS: '2'>: RelatedNodeInfo(node_id='d5f6a04d-13b2-4f88-a739-d0e1c841c07d', node_type='1', metadata={'file_path': '/Users/manishb27/Desktop/KisaanCompanion/data/ogranicFarming.txt', 'file_name': 'ogranicFarming.txt', 'file_type': 'text/plain', 'file_size': 81991, 'creation_date': '2024-12-14', 'last_modified_date': '2024-12-14'}, hash='39cbcb6a17bd3ae1a46d23b0171640637e7b25ae724264bb2b034e939c1f6c56'), <NodeRelationship.NEXT: '3'>: RelatedNodeInfo(node_id='74cac258-bbef-4dff-a522-500e6275dec0', node_type='1', metadata={}, hash='30859a056e4dd9823c7b76cf6f2e51f5ffe96342ac1e5ab6e506c84520224176')}, metadata_template='{key}: {value}', metadata_separator='\\n', text='Differing regulations among countries limits the availability of GMOs to certain countries, as described in the article on regulation of the release of genetic modified organisms.\\n\\nTools\\nOrganic farmers use a number of traditional farm tools to do farming, and may make use of agricultural machinery in similar ways to conventional farming. In the developing world, on small organic farms, tools are normally constrained to hand tools and diesel powered water pumps.\\n\\nStandards\\nMain article: Organic certification\\nStandards regulate production methods and in some cases final output for organic agriculture. Standards may be voluntary or legislated. As early as the 1970s private associations certified organic producers. In the 1980s, governments began to produce organic production guidelines. In the 1990s, a trend toward legislated standards began, most notably with the 1991 EU-Eco-regulation developed for European Union,[87] which set standards for 12 countries, and a 1993 UK program. The EU\\'s program was followed by a Japanese program in 2001, and in 2002 the U.S. created the National Organic Program (NOP).[88] As of 2007 over 60 countries regulate organic farming (IFOAM 2007:11). In 2005 IFOAM created the Principles of Organic Agriculture, an international guideline for certification criteria.[89] Typically the agencies accredit certification groups rather than individual farms.\\n\\nProduction materials used for the creation of USDA Organic certified foods require the approval of a NOP accredited certifier.\\n\\nEU-organic production-regulation on \"organic\" food labels define \"organic\" primarily in terms of whether \"natural\" or \"artificial\" substances were allowed as inputs in the food production process.[90]\\n\\nComposting\\nUsing manure as a fertilizer risks contaminating food with animal gut bacteria, including pathogenic strains of E. coli that have caused fatal poisoning from eating organic food.[91] To combat this risk, USDA organic standards require that manure must be sterilized through high temperature thermophilic composting. If raw animal manure is used, 120 days must pass before the crop is harvested if the final product comes into direct contact with the soil. For products that do not directly contact soil, 90 days must pass prior to harvest.[92]\\n\\nIn the US, the Organic Food Production Act of 1990 (OFPA) as amended, specifies that a farm can not be certified as organic if the compost being used contains any synthetic ingredients. The OFPA singles out commercially blended fertilizers [composts] disallowing the use of any fertilizer [compost] that contains prohibited materials.[93]\\n\\nEconomics\\nThe economics of organic farming, a subfield of agricultural economics, encompasses the entire process and effects of organic farming in terms of human society, including social costs, opportunity costs, unintended consequences, information asymmetries, and economies of scale.\\n\\nLabour input, carbon and methane emissions, energy use, eutrophication, acidification, soil quality, effect on biodiversity, and overall land use vary considerably between individual farms and between crops, making general comparisons between the economics of organic and conventional agriculture difficult.[94][95]\\n\\nIn the European Union \"organic farmers receive more subsidies under agri-environment and animal welfare subsidies than conventional growers\".[96]\\n\\nGeographic producer distribution\\nThe markets for organic products are strongest in North America and Europe, which as of 2001 are estimated to have $6 and $8 billion respectively of the $20 billion global market.[63]:\\u200a6\\u200a As of 2007 Australasia has 39% of the total organic farmland, including Australia\\'s 11,800,000 hectares (29,000,000 acres) but 97% of this land is sprawling rangeland (2007:35). US sales are 20x as much.[63]:\\u200a7\\u200a Europe farms 23% of global organic farmland (6,900,000 ha (17,000,000 acres)), followed by Latin America and the Caribbean with 20% (6,400,000 ha (16,000,000 acres)). Asia has 9.5% while North America has 7.2%. Africa has 3%.[97]\\n\\nBesides Australia,[98] the countries with the most organic farmland are Argentina (3.1 million hectares (7.7 million acres)), China (2.3 million hectares (5.7 million acres)), and the United States (1.6 million hectares (4.0 million acres)). Much of Argentina\\'s organic farmland is pasture, like that of Australia (2007:42). Spain, Germany, Brazil (the world\\'s largest agricultural exporter), Uruguay, and England follow the United States in the amount of organic land (2007:26).', mimetype='text/plain', start_char_idx=24247, end_char_idx=28767, metadata_seperator='\\n', text_template='{metadata_str}\\n\\n{content}'), score=0.7191746370775312), NodeWithScore(node=TextNode(id_='f7d062b2-5bb5-4707-859e-d7a9eb592ca7', embedding=None, metadata={'file_path': '/Users/manishb27/Desktop/KisaanCompanion/data/ogranicFarming.txt', 'file_name': 'ogranicFarming.txt', 'file_type': 'text/plain', 'file_size': 81991, 'creation_date': '2024-12-14', 'last_modified_date': '2024-12-14'}, excluded_embed_metadata_keys=['file_name', 'file_type', 'file_size', 'creation_date', 'last_modified_date', 'last_accessed_date'], excluded_llm_metadata_keys=['file_name', 'file_type', 'file_size', 'creation_date', 'last_modified_date', 'last_accessed_date'], relationships={<NodeRelationship.SOURCE: '1'>: RelatedNodeInfo(node_id='d1617a3e-4ebb-45d0-b7c4-5169e26bda90', node_type='4', metadata={'file_path': '/Users/manishb27/Desktop/KisaanCompanion/data/ogranicFarming.txt', 'file_name': 'ogranicFarming.txt', 'file_type': 'text/plain', 'file_size': 81991, 'creation_date': '2024-12-14', 'last_modified_date': '2024-12-14'}, hash='f42abf9f86312e14cc344f95122c95d54216ec72b569a1759e157e11f1d328ee'), <NodeRelationship.PREVIOUS: '2'>: RelatedNodeInfo(node_id='d43b1314-9012-4a38-89aa-ded4a24dc5bb', node_type='1', metadata={'file_path': '/Users/manishb27/Desktop/KisaanCompanion/data/ogranicFarming.txt', 'file_name': 'ogranicFarming.txt', 'file_type': 'text/plain', 'file_size': 81991, 'creation_date': '2024-12-14', 'last_modified_date': '2024-12-14'}, hash='0b418491689162a9af301c1e17706f24ca1769a2620d1fc47da86c52f7a1e429'), <NodeRelationship.NEXT: '3'>: RelatedNodeInfo(node_id='f4b89cd1-3fa7-49d6-aede-a4d5fa353b18', node_type='1', metadata={}, hash='217b4d1127fda49a0503d7366f11f3a45fd96d155baef726ff5fbd0a2d5804a1')}, metadata_template='{key}: {value}', metadata_separator='\\n', text=\"[197] Using practices that attract or introduce beneficial insects, provide habitat for birds and mammals, and provide conditions that increase soil biotic diversity serve to supply vital ecological services to organic production systems. Advantages to certified organic operations that implement these types of production practices include: 1) decreased dependence on outside fertility inputs; 2) reduced pest-management costs; 3) more reliable sources of clean water; and 4) better pollination.[198]\\n\\nNearly all non-crop, naturally occurring[199] species observed in comparative farm land practice studies show a preference for organic farming both by abundance and diversity.[200][201] An average of 30% more species inhabit organic farms.[202] Birds, butterflies, soil microbes, beetles, earthworms,[203][204] spiders, vegetation, and mammals are particularly affected. Lack of herbicides and pesticides improve biodiversity fitness and population density.[201] Many weed species attract beneficial insects that improve soil qualities and forage on weed pests.[205] Soil-bound organisms often benefit because of increased bacteria populations due to natural fertilizer such as manure, while experiencing reduced intake of herbicides and pesticides.[200] Increased biodiversity, especially from beneficial soil microbes and mycorrhizae have been proposed as an explanation for the high yields experienced by some organic plots, especially in light of the differences seen in a 21-year comparison of organic and control fields.[206]\\n\\nOrganic farming contributes to human capital by promoting biodiversity. The presence of various species in organic farms helps to reduce human input, such as fertilizers, and pesticides, which enhances sustainability.\\n\\nThe USDA's Agricultural Marketing Service (AMS) published a Federal Register notice on 15 January 2016, announcing the National Organic Program (NOP) final guidance on Natural Resources and Biodiversity Conservation for Certified Organic Operations. Given the broad scope of natural resources which includes soil, water, wetland, woodland and wildlife, the guidance provides examples of practices that support the underlying conservation principles and demonstrate compliance with USDA organic regulations § 205.200.[198] The final guidance provides organic certifiers and farms with examples of production practices that support conservation principles and comply with the USDA organic regulations, which require operations to maintain or improve natural resources.[198] The final guidance also clarifies the role of certified operations (to submit an OSP to a certifier), certifiers (ensure that the OSP describes or lists practices that explain the operator's monitoring plan and practices to support natural resources and biodiversity conservation), and inspectors (onsite inspection) in the implementation and verification of these production practices.[207]\\n\\nA wide range of organisms benefit from organic farming, but it is unclear whether organic methods confer greater benefits than conventional integrated agri-environmental programs.[200] Organic farming is often presented as a more biodiversity-friendly practice, but the generality of the beneficial effects of organic farming is debated as the effects appear often species- and context-dependent, and current research has highlighted the need to quantify the relative effects of local- and landscape-scale management on farmland biodiversity.[208] There are four key issues when comparing the impacts on biodiversity of organic and conventional farming: (1) It remains unclear whether a holistic whole-farm approach (i.e. organic) provides greater benefits to biodiversity than carefully targeted prescriptions applied to relatively small areas of cropped and/or non-cropped habitats within conventional agriculture (i.e. agri-environment schemes); (2) Many comparative studies encounter methodological problems, limiting their ability to draw quantitative conclusions; (3) Our knowledge of the impacts of organic farming in pastoral and upland agriculture is limited; (4) There remains a pressing need for longitudinal, system-level studies in order to address these issues and to fill in the gaps in our knowledge of the impacts of organic farming, before a full appraisal of its potential role in biodiversity conservation in agroecosystems can be made.[209]\\n\\nLabour standards\\nOrganic agriculture is often considered to be more socially just and economically sustainable for farmworkers than conventional agriculture. However, there is little social science research or consensus as to whether or not organic agriculture provides better working conditions than conventional agriculture.[210] As many consumers equate organic and sustainable agriculture with small-scale, family-owned organizations it is widely interpreted that buying organic supports better conditions for farmworkers than buying with conventional producers.[211] Organic agriculture is generally more labour-intensive due to its dependence on manual practices for fertilization and pest removal. Although illnesses from inputs pose less of a risk[dubious – discuss], hired workers still fall victim to debilitating musculoskeletal disorders associated with agricultural work. The USDA certification requirements outline growing practices and ecological standards but do nothing to codify labour practices.\", mimetype='text/plain', start_char_idx=58136, end_char_idx=63533, metadata_seperator='\\n', text_template='{metadata_str}\\n\\n{content}'), score=0.7163952400471516)], metadata={'c346be82-3fb7-4766-9a8e-db4550083f54': {'file_path': '/Users/manishb27/Desktop/KisaanCompanion/data/ogranicFarming.txt', 'file_name': 'ogranicFarming.txt', 'file_type': 'text/plain', 'file_size': 81991, 'creation_date': '2024-12-14', 'last_modified_date': '2024-12-14'}, 'f7d062b2-5bb5-4707-859e-d7a9eb592ca7': {'file_path': '/Users/manishb27/Desktop/KisaanCompanion/data/ogranicFarming.txt', 'file_name': 'ogranicFarming.txt', 'file_type': 'text/plain', 'file_size': 81991, 'creation_date': '2024-12-14', 'last_modified_date': '2024-12-14'}})"
      ]
     },
     "execution_count": 5,
     "metadata": {},
     "output_type": "execute_result"
    }
   ],
   "source": [
    "# making a query engine on the index\n",
    "query_engine = index.as_query_engine(llm = llm)\n",
    "response = query_engine.query(\"what is the core principle of organic production?\")\n",
    "response"
   ]
  },
  {
   "cell_type": "code",
   "execution_count": null,
   "metadata": {},
   "outputs": [
    {
     "name": "stderr",
     "output_type": "stream",
     "text": [
      "Retrying llama_index.llms.vertex.utils.completion_with_retry.<locals>._completion_with_retry in 4.0 seconds as it raised ServiceUnavailable: 503 recvmsg:Connection reset by peer.\n"
     ]
    },
    {
     "data": {
      "text/plain": [
       "Response(response='In organic farming, pest problems are viewed differently than in conventional farming. Organic farmers rely on natural methods to control pests, rather than using synthetic pesticides. This means that they need to be more proactive in preventing pests from becoming a problem in the first place.\\n\\nOne of the most important things that organic farmers can do to prevent pests is to promote biodiversity on their farms. This means planting a variety of crops, as well as flowers and other plants that attract beneficial insects. Beneficial insects, such as ladybugs and lacewings, can help to control pest populations.\\n\\nOrganic farmers also need to be careful about the types of fertilizers and compost they use. Some fertilizers and compost can contain weed seeds or other pests. It is important to use certified organic fertilizers and compost to avoid introducing pests into your garden.\\n\\nFinally, organic farmers need to be prepared to take action if pests do become a problem. There are a number of natural methods that can be used to control pests, such as hand-picking, using insecticidal soap, or releasing beneficial insects.\\n\\nBy following these tips, organic farmers can help to prevent pest problems and keep their crops healthy.', source_nodes=[NodeWithScore(node=TextNode(id_='c07ff973-78b8-4413-b926-d31628cc6edb', embedding=[0.006391886156052351, -0.019391482695937157, -0.014908025041222572, 0.0038105640560388565, -0.040996335446834564, 0.025958143174648285, -0.00502236932516098, -0.010954814031720161, -0.016354631632566452, -0.030335597693920135, 0.02231273427605629, 0.06487968564033508, -0.01766115427017212, 0.003547731088474393, 0.027619879692792892, -0.056181758642196655, 0.08002018928527832, -0.02564222738146782, -0.011447448283433914, 0.006875582505017519, 0.08306436240673065, -0.02402349002659321, 0.02469342015683651, -0.07349234074354172, -0.012046805582940578, -0.04498032107949257, 0.014118440449237823, 0.03553391620516777, -0.026680434122681618, -0.004095796030014753, 0.06007323041558266, 0.07438021898269653, 0.04894588887691498, -0.04574223607778549, -0.018521854653954506, 0.009710646234452724, -0.012990880757570267, 0.006646424066275358, -0.0031738686375319958, -0.03226446732878685, 0.03611662983894348, 0.02376634068787098, -0.029986102133989334, 0.01642010733485222, -0.04043388366699219, -0.03585858270525932, -0.00047342394827865064, 0.10839495807886124, -0.037485167384147644, 0.016599616035819054, 0.022705379873514175, 0.014102976769208908, -0.023649314418435097, 0.04274659976363182, -0.020529022440314293, -0.029163315892219543, -0.02020937204360962, 0.004377391654998064, -0.0622352659702301, 0.05409867689013481, -0.07512623816728592, -0.013112811371684074, -0.03553181141614914, -0.0660795196890831, -0.05059104412794113, 0.029893364757299423, -0.049247510731220245, -0.03153390809893608, -0.0564863383769989, 0.002157587092369795, 0.02415900118649006, 0.08507180213928223, -0.02213219925761223, -0.007506716065108776, -0.032132405787706375, 0.011094162240624428, -0.025980127975344658, -0.03976207971572876, -0.00984843261539936, 0.009570121765136719, -0.037422697991132736, 0.019837670028209686, 0.05430387333035469, 0.01486890483647585, -0.015825845301151276, -0.048267386853694916, -0.013863573782145977, -0.03381523862481117, -0.0255782138556242, -0.03403835371136665, 0.025082945823669434, 0.04476138576865196, -0.013341692276299, 0.008182582445442677, 0.01416788250207901, 0.03152024745941162, -0.043214209377765656, -0.08012279868125916, 0.02078321948647499, 0.05556245520710945, 0.02536560222506523, -0.008924083784222603, -0.0290237870067358, -0.05390660837292671, 0.054782357066869736, 0.05862380936741829, -0.00799439288675785, -0.019307121634483337, 0.004990777932107449, 0.04600724205374718, 0.04557789862155914, -0.0450901985168457, 0.04235022887587547, -0.04479148983955383, 0.02150239795446396, -0.024568697437644005, -0.028514627367258072, 0.026503995060920715, -0.0865839347243309, -0.04595981910824776, 0.008633548393845558, -0.058186665177345276, -0.0001717456034384668, 0.03627787530422211, 0.04809645563364029, -0.007791656069457531, -0.00952222291380167, -0.01592589169740677, -0.0633552223443985, 0.03484630212187767, 0.05511314421892166, -0.10177913308143616, -0.02912476845085621, 0.048297904431819916, -0.04812251403927803, -0.06886040419340134, 0.045679353177547455, -0.006624446250498295, 0.001429510535672307, 0.0019851173274219036, 0.033300790935754776, -0.030560249462723732, -0.04708936810493469, 0.04271969944238663, 0.0039006012957543135, -0.025440718978643417, 0.06731538474559784, 0.02535024657845497, -0.04167703166604042, -0.005889570340514183, -0.03044053353369236, 0.007129089441150427, 0.062347617000341415, 0.008464794605970383, 0.01854715868830681, -0.05123870447278023, 0.048892851918935776, -0.05538368225097656, 0.024212323129177094, -0.011631106026470661, 0.017899122089147568, 0.00354804121889174, 0.05577950179576874, -0.0113076101988554, -0.10280346870422363, -0.04495745152235031, 0.01864040642976761, -0.0030230688862502575, -0.014024880714714527, -0.03443974256515503, -0.0003331851039547473, -0.01440318115055561, 0.009927081875503063, -0.15763352811336517, 0.032027266919612885, 0.008789730258286, 0.007924861274659634, -0.07106547057628632, -0.0051661948673427105, -0.05310485139489174, 0.06436016410589218, 0.01656607910990715, -0.09022895991802216, -0.07178407907485962, 0.04369368031620979, -0.017080631107091904, -0.0014134817756712437, 0.06739573180675507, 0.05854408070445061, 0.010999600403010845, 0.0030723523814231157, -0.02180713415145874, -0.016633741557598114, 0.015278075821697712, -0.021737974137067795, 0.020170850679278374, 0.030600573867559433, -0.01660609245300293, -0.08181460946798325, -0.050293028354644775, -0.015244350768625736, -0.05329834669828415, 0.008369323797523975, 0.0013830560492351651, 0.020089246332645416, 0.01955554634332657, 0.003940289840102196, -0.017849469557404518, -0.009627124294638634, 0.0017641421873122454, 0.05094609782099724, 0.024437272921204567, -0.057373788207769394, -0.009144861251115799, -0.012634733691811562, -0.019137350842356682, 0.044007036834955215, -0.016147403046488762, 0.007508328650146723, -0.057485196739435196, -0.0023448849096894264, -0.03221043571829796, 0.044118721038103104, 0.025994280353188515, -0.03549927845597267, -0.020178548991680145, -0.016797369346022606, -0.07277008146047592, -0.01238863542675972, 0.01061819214373827, 0.01948503404855728, 0.07191848009824753, 0.03753050044178963, 0.04561882093548775, -0.016658958047628403, 0.00013321544975042343, -0.036681145429611206, -0.07071349769830704, -0.0004830456746276468, 0.02921542152762413, 0.02843821793794632, 0.02679000422358513, 0.06244141235947609, -0.07553655654191971, 0.03314661234617233, -0.012793481349945068, 0.02558174915611744, 0.05778028815984726, 0.0010385742643848062, -0.06915522366762161, 0.055100634694099426, -0.05125068500638008, -0.006833057850599289, -0.0094444639980793, 0.02086327038705349, -0.050449591130018234, 0.00035804405342787504, 0.019120948389172554, -0.03292597830295563, -0.04178910329937935, 0.05938065052032471, -0.026798414066433907, -0.06567786633968353, -0.05762090906500816, -0.0006825488526374102, -0.11358698457479477, -0.0025830091908574104, -0.015692496672272682, 0.011508088558912277, -0.0386982187628746, 0.0124506875872612, -0.051217544823884964, -0.0285964272916317, -0.04181830957531929, -0.010868278332054615, -0.029727453365921974, 0.0074422904290258884, 0.007550936192274094, 0.03681245818734169, -0.04849759116768837, 0.05579821392893791, 0.05002283304929733, 0.0007676041568629444, -0.033711884170770645, -0.0055539836175739765, 0.0009424643940292299, 0.036484844982624054, 0.015233072452247143, -0.007688811048865318, 0.0043923514895141125, -0.010225747711956501, -0.0044374107383191586, 0.03875475749373436, 0.007290027104318142, 0.03747685253620148, -0.019034763798117638, 0.05044490844011307, -0.02591647021472454, -0.020314184948801994, -0.04125146567821503, 0.01019640639424324, 0.0775991827249527, 0.004005627240985632, 0.01655316725373268, 0.015568378381431103, 0.03023434989154339, -0.030241740867495537, -0.019369354471564293, -0.01592010259628296, 0.023060165345668793, 0.0016459134640172124, 0.048319973051548004, -0.01605137623846531, 0.01835942454636097, -0.03681985288858414, 0.006764035671949387, -0.18508437275886536, -0.028718426823616028, -0.044499680399894714, -0.028334684669971466, 0.03607024997472763, -0.007038359995931387, 0.003728384617716074, 0.006717491429299116, -0.04545417055487633, -0.044492632150650024, 0.003099320223554969, 0.0048547545447945595, 0.04625209793448448, -0.0164497047662735, 0.06489811837673187, -0.04631596803665161, -0.05132051929831505, -0.04079890996217728, 0.03625543415546417, 0.01255460549145937, -0.030103765428066254, 0.0313393734395504, 0.007275016512721777, 0.028198838233947754, -0.010509021580219269, 0.012065744027495384, 0.03496409207582474, 0.06848710775375366, -0.005743351299315691, -0.010045677423477173, 0.03533627837896347, 0.019146673381328583, -0.02632143907248974, 0.015692362561821938, 0.024781787768006325, 0.03338458389043808, 0.04213302209973335, -0.005322618875652552, 0.0029438810888677835, -0.062001947313547134, 0.008736744523048401, 0.0029787616804242134, 0.007141809910535812, -0.03729065880179405, 0.004305148497223854, -0.017177434638142586, 0.012296364642679691, 0.023887179791927338, 0.05099911615252495, -0.014060874469578266, -0.007071285042911768, 0.0461561493575573, 0.021951330825686455, -0.03920029476284981, -0.005642454139888287, -0.014056336134672165, 0.014089728705585003, 0.019140183925628662, -0.005370850674808025, -0.03136838227510452, 0.009421559982001781, 0.034525614231824875, -0.03376850485801697, -0.002685995539650321, -0.06905899941921234, -0.02361469343304634, -0.021441129967570305, 0.0053429026156663895, -0.019853591918945312, 0.025283459573984146, -0.026262324303388596, -0.011153468862175941, 0.004158618859946728, -0.016706664115190506, 0.005713928025215864, -0.02599932812154293, 0.030039306730031967, 0.03243356570601463, -0.009628313593566418, 0.006621540989726782, -0.0085810711607337, -0.019582724198698997, -0.0022975823376327753, 0.042722437530756, 0.033181723207235336, -0.026663677766919136, 0.052515365183353424, -0.034145843237638474, -0.013094023801386356, -0.010489650070667267, 0.04837331548333168, -0.0005261207697913051, 0.0211971253156662, 0.00983954407274723, -0.03869522362947464, -0.03337669000029564, -0.010423538275063038, -0.015474834479391575, -0.03171952813863754, -0.04409238323569298, 0.028316570445895195, 0.004333367571234703, -0.00948160607367754, 0.057954639196395874, -0.002918406156823039, -0.01996883936226368, 0.07309093326330185, 0.008657333441078663, -0.038413047790527344, -0.03472461551427841, 0.021640390157699585, 0.07255901396274567, -0.01791897602379322, 0.016303343698382378, 0.008584558963775635, 0.05806716904044151, -0.018686575815081596, 0.04586394131183624, 0.03193647786974907, 0.021800903603434563, -0.026866648346185684, -0.00749432435259223, -0.040587715804576874, 0.013206076808273792, -0.051651980727910995, 0.010517862625420094, -0.046162307262420654, 0.039363112300634384, 0.013094455935060978, -0.01978475973010063, 0.05436767637729645, -0.006044124718755484, -0.02818683721125126, -0.03492577746510506, 0.0025295463856309652, 0.03873460739850998, 0.04550649970769882, -0.032350581139326096, -0.05162564292550087, -0.0052978238090872765, 0.0004794378182850778, -0.015736404806375504, 0.05293267220258713, 0.010097751393914223, -0.03632612153887749, 0.0005832123570144176, 0.01523930300027132, 0.03827750310301781, 0.02896156720817089, 0.024765096604824066, -0.004544961731880903, 0.01596965454518795, -0.0022134718019515276, 0.0338057242333889, 0.06875075399875641, -0.04827909171581268, 0.04144808277487755, 0.03181947395205498, -0.055925313383340836, -0.005702293943613768, -0.01769711822271347, 0.023373696953058243, 0.049538448452949524, 0.024811476469039917, -0.008932236582040787, 0.009899010881781578, 0.03314338997006416, -0.048844072967767715, 0.08988363295793533, -0.005507079418748617, -0.004397942218929529, 0.022799449041485786, 0.01468048058450222, 0.025165122002363205, -0.008926804177463055, 0.0020434658508747816, 0.06823483109474182, -0.03315192461013794, 0.02775241807103157, 0.01990446448326111, 0.003290961729362607, 0.048442620784044266, -0.020888179540634155, 0.025367114692926407, 0.07713218033313751, -0.029953608289361, 0.026070548221468925, -0.028925934806466103, -0.01272796094417572, 0.03295169025659561, -0.020712003111839294, -0.022288503125309944, 0.0326838493347168, 0.0677446573972702, -0.008914589881896973, -0.04550265520811081, 0.022386932745575905, 0.006807691417634487, 0.05026182532310486, 0.020341521129012108, -0.039839789271354675, 0.04213928431272507, 0.0046757543459534645, 0.05203623324632645, -0.009230196475982666, -0.03035127930343151, 0.055497679859399796, 0.014330573379993439, 0.01222318410873413, 0.007988850586116314, 0.033596884459257126, 0.024295751005411148, 0.0521179735660553, -0.05287310481071472, -0.02439548633992672, 0.015660375356674194, 0.026315581053495407, 0.040176913142204285, -0.009451006539165974, 0.03533380106091499, 0.024454722180962563, -0.007604250684380531, 0.039246030151844025, 0.02928891032934189, -0.011086912825703621, 0.010218750685453415, 0.04312688112258911, 0.052147574722766876, 0.03938420116901398, 0.014432313852012157, -0.003351005958393216, 0.03771098703145981, 0.01670875772833824, 0.09494611620903015, -0.03967902064323425, -0.021153036504983902, 0.035079777240753174, 0.01720692776143551, -0.04187571257352829, -0.006945939734578133, -0.0015136745059862733, -0.025585118681192398, 0.013502770103514194, -0.024630550295114517, 0.0058106062933802605, 0.03699183091521263, 0.05188623070716858, -0.012076953426003456, 0.04770117253065109, 0.017829477787017822, 0.01714812032878399, -0.008305556140840054, 0.004504332784563303, 0.04081788659095764, -0.003527047112584114, -0.008060213178396225, -0.014492700807750225, 0.012256870046257973, 0.03841540217399597, -0.047571972012519836, 0.004624607972800732, 0.03796340897679329, -0.005131674464792013, -0.022980237379670143, 0.040850527584552765, -0.009564233012497425, -0.002932970877736807, 0.03311525285243988, 0.04354153200984001, 0.010925237089395523, -0.05598766356706619, 0.000377482472686097, 0.015209408476948738, -0.011522938497364521, 0.022102274000644684, 0.05990748479962349, 0.002602875931188464, -0.0007255062228068709, -0.03566042706370354, 0.05718723312020302, -0.07932674139738083, 0.028894634917378426, 0.035993542522192, 0.027022402733564377, -0.009441195987164974, -0.0024496945552527905, 0.0952930822968483, 0.02126641385257244, -0.032779064029455185, -0.022995034232735634, -0.036552540957927704, -0.048261601477861404, -0.029375620186328888, -0.04720926284790039, -0.029057087376713753, -0.0051130675710737705, -0.009573571383953094, -0.01882927678525448, -0.044943854212760925, -0.06197706237435341, -0.019562873989343643, 0.03777666017413139, 0.022956902161240578, 0.04427988454699516, -0.03719373792409897, 0.005338100716471672, 0.02566973678767681, -0.02516704797744751, -0.03462778776884079, -0.01918705739080906, 0.005110608879476786, -0.007419266737997532, -0.01252091396600008, 0.03215218335390091, -0.0051070027984678745, 0.02762495167553425, -0.023426976054906845, -0.06891607493162155, -0.059156470000743866, 0.026991309598088264, 0.010783428326249123, 0.01479218527674675, 0.040836844593286514, -0.017005054280161858, 0.01577744074165821, -0.013448783196508884, 0.049459151923656464, 0.01399826630949974, -0.05424228683114052, -0.016612932085990906, -0.00776040181517601, 0.03701261058449745, -0.021564973518252373, -0.006427987944334745, -0.0058981990441679955, 0.014108933508396149, -0.010746609419584274, 0.04265942797064781, 0.040411900728940964, -0.03362287953495979, -0.04119829460978508, -0.004321096930652857, 0.03788042068481445, -0.02496384084224701, 0.032462362200021744, -0.022117244079709053, -0.0031744334846735, 0.0019085367675870657, 0.01294673327356577, 0.021966027095913887, 0.02383921667933464, 0.004935556091368198, 0.0548793226480484, -0.009003798477351665, -0.07723245769739151, -0.044624317437410355, -0.05230752378702164, 0.005248596891760826, -0.02840702421963215, -0.012333976104855537, 0.04474660009145737, -0.011618094518780708, -0.014857832342386246, 0.012284493073821068, 0.03344285115599632, -0.041259199380874634, 0.0407351478934288, 0.01990356296300888, -0.000729176274035126, 0.0016579985385760665, 0.0060658263973891735, 0.006756019778549671, -0.07908438891172409, 0.007606627885252237, -0.017393874004483223, -0.04715219885110855, -0.025890285149216652, 0.005706349853426218, 0.007190351840108633, 0.002678240416571498, -0.008394910953938961, -0.0028506419621407986, -0.009298381395637989, -0.024825381115078926, -0.07331757992506027, -0.030948007479310036, -0.06054282933473587, -0.04765120893716812, 0.005070817656815052, -0.01122791413217783, 0.08760015666484833, 0.029751408845186234, 0.02082677185535431, -0.00042259195470251143, -0.015197713859379292, 0.013478401117026806, 0.05525931343436241, 0.027117827907204628, -0.05294547230005264, -0.02084120362997055, 0.05143663287162781, 0.04921242967247963, -0.015810342505574226, 0.007889925502240658, -0.029146112501621246, -0.014384930022060871, -0.00834067165851593, 0.03792353346943855, 0.06843787431716919, 0.006554559804499149, -0.08722657710313797, -0.013925309292972088, -0.04415963962674141, 0.053366366773843765, 0.05106913670897484, -0.02038942091166973, -0.004649566952139139, 0.050523094832897186, 0.01982307992875576, 0.0021293351892381907, -0.01760254055261612, 0.004539016634225845, 0.006000271998345852, -0.030804144218564034, 0.02818380296230316, -0.0075562926940619946, -0.029399966821074486, -0.009273694828152657, 0.058935318142175674, -0.03948359563946724, 0.02157270908355713, 0.021215226501226425, -0.022672414779663086, -0.03571673482656479, -0.056010160595178604, 0.000865780224557966, 0.008239739574491978, -0.0018708304269239306, 0.04860234260559082, -0.01435378473252058, -0.02649814635515213, -0.021041907370090485, 0.0062446147203445435, 0.07302244752645493, -0.024869432672858238, -0.004696701653301716, 0.005177438724786043, -0.01683855429291725, -0.055072009563446045, 0.012184040620923042, -0.022456834092736244, -0.00945164356380701], metadata={'file_path': '/Users/manishb27/Desktop/KisaanCompanion/data/ogranicFarming.txt', 'file_name': 'ogranicFarming.txt', 'file_type': 'text/plain', 'file_size': 81991, 'creation_date': '2024-12-14', 'last_modified_date': '2024-12-14'}, excluded_embed_metadata_keys=['file_name', 'file_type', 'file_size', 'creation_date', 'last_modified_date', 'last_accessed_date'], excluded_llm_metadata_keys=['file_name', 'file_type', 'file_size', 'creation_date', 'last_modified_date', 'last_accessed_date'], relationships={<NodeRelationship.SOURCE: '1'>: RelatedNodeInfo(node_id='0aa5544a-ccd4-4806-b83e-9b0b8b486e13', node_type='4', metadata={'file_path': '/Users/manishb27/Desktop/KisaanCompanion/data/ogranicFarming.txt', 'file_name': 'ogranicFarming.txt', 'file_type': 'text/plain', 'file_size': 81991, 'creation_date': '2024-12-14', 'last_modified_date': '2024-12-14'}, hash='f42abf9f86312e14cc344f95122c95d54216ec72b569a1759e157e11f1d328ee'), <NodeRelationship.PREVIOUS: '2'>: RelatedNodeInfo(node_id='98bfd764-65c0-41ab-839d-289593e3c4a2', node_type='1', metadata={'file_path': '/Users/manishb27/Desktop/KisaanCompanion/data/ogranicFarming.txt', 'file_name': 'ogranicFarming.txt', 'file_type': 'text/plain', 'file_size': 81991, 'creation_date': '2024-12-14', 'last_modified_date': '2024-12-14'}, hash='99789d2507a85827a55e5afc9025931a624de23e51833a7a896b2f43dedd5df8'), <NodeRelationship.NEXT: '3'>: RelatedNodeInfo(node_id='aa16c461-f731-44ea-80f4-69470fe595f6', node_type='1', metadata={}, hash='7f224fc83779e4d915d821aaba6a9a4e8f8b7ec97671b92709a0acbb7c8300a8')}, metadata_template='{key}: {value}', metadata_separator='\\n', text='Since the early 1940s the two camps have tended to merge.[44][45]\\n\\nBiodynamic agriculturists, on the other hand, used the term \"organic\" to indicate that a farm should be viewed as a living organism,[33]:\\u200a17–19\\u200a[39] in the sense of the following quotation:\\n\\nAn organic farm, properly speaking, is not one that uses certain methods and substances and avoids others; it is a farm whose structure is formed in imitation of the structure of a natural system that has the integrity, the independence and the benign dependence of an organism\\n\\n—\\u200aWendell Berry, \"The Gift of Good Land\"\\nThey based their work on Steiner\\'s spiritually-oriented alternative agriculture which includes various esoteric concepts.\\n\\nMethods\\n\\nOrganic cultivation of mixed vegetables in Capay, California\\nA woman kneels amongst vegetables in a greenhouse.\\nOrganic farming in Virginia, USA.\\n\"Organic agriculture is a production system that sustains the health of soils, ecosystems and people. It relies on ecological processes, biodiversity and cycles adapted to local conditions, rather than the use of inputs with adverse effects. Organic agriculture combines tradition, innovation and science to benefit the shared environment and promote fair relationships and a good quality of life for all involved...\"\\n\\n—\\u200aInternational Federation of Organic Agriculture Movements[46]\\nOrganic farming methods combine scientific knowledge of ecology and some modern technology with traditional farming practices based on naturally occurring biological processes. Organic farming methods are studied in the field of agroecology. While conventional agriculture uses synthetic pesticides and water-soluble synthetically purified fertilizers, organic farmers are restricted by regulations to using natural pesticides and fertilizers. An example of a natural pesticide is pyrethrin, which is found naturally in the Chrysanthemum flower. The principal methods of organic farming include crop rotation, green manures and compost, biological pest control, and mechanical cultivation. These measures use the natural environment to enhance agricultural productivity: legumes are planted to fix nitrogen into the soil, natural insect predators are encouraged, crops are rotated to confuse pests and renew soil, and natural materials such as potassium bicarbonate[47] and mulches are used to control disease and weeds. Genetically modified seeds and animals are excluded.\\n\\nWhile organic is fundamentally different from conventional because of the use of carbon-based fertilizers compared with highly soluble synthetic based fertilizers and biological pest control instead of synthetic pesticides, organic farming and large-scale conventional farming are not entirely mutually exclusive. Many of the methods developed for organic agriculture have been borrowed by more conventional agriculture. For example, Integrated Pest Management is a multifaceted strategy that uses various organic methods of pest control whenever possible, but in conventional farming could include synthetic pesticides only as a last resort.[48] Examples of beneficial insects that are used in organic farming include ladybugs and lacewings, both of which feed on aphids. The use of IPM lowers the possibility of pest developing resistance to pesticides that are applied to crops.\\n\\nCrop diversity\\nOrganic farming encourages crop diversity by promoting polyculture (multiple crops in the same space). Planting a variety of vegetable crops supports a wider range of beneficial insects, soil microorganisms, and other factors that add up to overall farm health. Crop diversity helps the environment to thrive and protects species from going extinct.[49][50] The science of Agroecology has revealed the benefits of polyculture, which is often employed in organic farming. Agroecology is a scientific discipline that uses ecological theory to study, design, manage, and evaluate agricultural systems that are productive and resource-conserving, and that are also culturally sensitive, socially just, and economically viable.[51]\\n\\nIncorporating crop diversity into organic farming practices can have several benefits. For instance, it can help to increase soil fertility by promoting the growth of beneficial soil microorganisms. It can also help to reduce pest and disease pressure by creating a more diverse and resilient agroecosystem.[52] Furthermore, crop diversity can help to improve the nutritional quality of food by providing a wider range of essential nutrients.[53]\\n\\nSoil management\\nOrganic farming relies more heavily on the natural breakdown of organic matter than the average conventional farm, using techniques like green manure and composting, to replace nutrients taken from the soil by previous crops. This biological process, driven by microorganisms such as mycorrhiza and earthworms, releases nutrients available to plants throughout the growing season. Farmers use a variety of methods to improve soil fertility, including crop rotation, cover cropping, reduced tillage, and application of compost. By reducing fuel-intensive tillage, less soil organic matter is lost to the atmosphere. This has an added benefit of carbon sequestration, which reduces greenhouse gases and helps reverse climate change.', mimetype='text/plain', start_char_idx=8009, end_char_idx=13243, metadata_seperator='\\n', text_template='{metadata_str}\\n\\n{content}'), score=0.7785177826881409), NodeWithScore(node=TextNode(id_='0c83d650-507e-4304-b451-5236065e3434', embedding=[-0.03167446702718735, -0.054403968155384064, -0.03470994532108307, 0.01879962533712387, -0.016932500526309013, 0.02716965600848198, -0.023842904716730118, -0.004886392038315535, -0.0015741043025627732, -0.0167413130402565, 0.008732601068913937, 0.07819163054227829, -0.01645789109170437, 0.015757227316498756, 0.006715952418744564, -0.07532787322998047, 0.11274874955415726, -0.032649386674165726, -0.030398055911064148, 0.013393002562224865, 0.060448139905929565, -0.012876268476247787, 0.014126276597380638, -0.0648832768201828, -0.01821192167699337, -0.05783328786492348, 0.0296256635338068, 0.01905875653028488, -0.06333232671022415, -0.0205097533762455, 0.07058025896549225, 0.05878077819943428, 0.057193588465452194, -0.027073603123426437, -0.019094523042440414, 0.019951997324824333, -0.003687139367684722, 0.02987060882151127, -0.024945026263594627, -0.025563839823007584, 0.03683210536837578, 0.011048058047890663, -0.017612215131521225, 0.02511044219136238, -0.019680745899677277, -0.03312717750668526, -0.005869679152965546, 0.07385154813528061, -0.018210383132100105, 0.007677305489778519, 0.023714981973171234, 0.01078612357378006, 0.00107861147262156, 0.03982560336589813, -0.017267128452658653, -0.023255737498402596, -0.02038930356502533, -0.0038529536686837673, -0.06025964766740799, 0.0618102103471756, -0.03267158195376396, -0.0005415593623183668, -0.02843490056693554, -0.05716778710484505, -0.03349673002958298, -0.00751077476888895, -0.04113713279366493, -0.02285536378622055, -0.07280705124139786, -0.020708896219730377, 0.002849428914487362, 0.055565789341926575, 0.005026502069085836, -0.02859256975352764, -0.016711294651031494, 0.0046791937202215195, -0.007214282639324665, -0.04558113217353821, 0.01466103084385395, 0.0006481215823441744, -0.016279535368084908, 0.03866978734731674, 0.0178680457174778, 0.05446954071521759, -0.0325954407453537, -0.032902393490076065, -0.0025569668505340815, -0.0094881821423769, -0.02848404459655285, 0.00394788384437561, 0.030890727415680885, 0.036665480583906174, -0.012395870871841908, 0.0032748980447649956, 0.013305839151144028, 0.02010955847799778, -0.04618636891245842, -0.058212582021951675, 0.032804377377033234, 0.09754323214292526, 0.026370937004685402, -0.027396120131015778, -0.03312266245484352, -0.08068758994340897, 0.062072064727544785, 0.06910299509763718, -0.02742926776409149, 0.023194311186671257, -0.0009867232292890549, 0.04611814767122269, 0.034408461302518845, -0.029372457414865494, 0.04626315459609032, -0.018273720517754555, 0.007357125636190176, -0.013681908138096333, -0.030546166002750397, 0.005682683549821377, -0.08166003227233887, -0.07011523097753525, 0.002586297458037734, -0.02674657106399536, 0.012465305626392365, 0.032048553228378296, 0.019622130319476128, 0.012819075956940651, -0.01779102347791195, 0.0017001123633235693, -0.06885943561792374, 0.00033077699481509626, 0.018002521246671677, -0.1064075455069542, -0.03503530099987984, 0.059459444135427475, -0.030878914520144463, -0.07694154977798462, -0.0030147372744977474, -0.015190494246780872, -0.000756027118768543, 0.023443840444087982, 0.018003106117248535, -0.024710839614272118, -0.027601834386587143, 0.06765799224376678, 0.017222439870238304, -0.04713136702775955, 0.06558618694543839, 0.03210090473294258, -0.037531156092882156, -0.003497800324112177, -0.020186861976981163, -0.020816514268517494, 0.03905373439192772, -0.0031813590321689844, 0.04084625840187073, -0.0430481880903244, 0.0667034387588501, -0.07151543349027634, -0.004017587285488844, -0.01340237632393837, 0.018919823691248894, 0.028610710054636, 0.06464695930480957, 0.008362652733922005, -0.10447388887405396, -0.03413783013820648, 0.011861752718687057, -0.000871885335072875, -0.0034350615460425615, -0.034234508872032166, -0.009485437534749508, -0.044606201350688934, 0.026645498350262642, -0.1493767350912094, 0.01784770004451275, 0.001897734822705388, 0.013055511750280857, -0.035975102335214615, -0.02340429276227951, -0.046075787395238876, 0.07225384563207626, 0.020795606076717377, -0.06435126066207886, -0.06660579890012741, 0.040574830025434494, -0.02441239170730114, 0.03320864215493202, 0.06241297721862793, 0.023369183763861656, 0.004807674791663885, 0.015574532561004162, -0.04754934832453728, 0.010802891105413437, 0.005840600002557039, -0.02875566855072975, 0.027866486459970474, 0.031064528971910477, 0.0007558936486020684, -0.06869616359472275, -0.08202819526195526, -0.001566847786307335, -0.04959972947835922, -0.026113862171769142, -0.023473422974348068, 0.01782846823334694, 0.037342239171266556, 0.007647693157196045, -0.03145783022046089, 0.023000184446573257, -0.010265007615089417, 0.05926753580570221, 0.031035251915454865, -0.06360147893428802, -0.027217857539653778, -0.031033381819725037, -0.01833629049360752, 0.04059121012687683, -0.011047480627894402, -0.0015244113747030497, -0.06447465717792511, -0.0010908008553087711, -0.005993617232888937, 0.04361620172858238, 0.02634933404624462, -0.04757574200630188, -0.0023751098196953535, -0.047907453030347824, -0.05191818252205849, 0.019614214077591896, 0.0045206849463284016, 0.025770744308829308, 0.05046165734529495, 0.051624685525894165, 0.049875348806381226, -0.020913206040859222, 0.012091398239135742, -0.04707400128245354, -0.0642547458410263, 0.018548475578427315, 0.03908831998705864, 0.03864496946334839, 0.025668108835816383, 0.07354823499917984, -0.05451482534408569, 0.06863591820001602, -0.032858192920684814, 0.027852939441800117, 0.025575680658221245, 0.037335388362407684, -0.06747161597013474, 0.0853336825966835, -0.06345724314451218, 0.00034280456020496786, 0.006867327261716127, 0.018581591546535492, -0.061564650386571884, 0.013418829999864101, 0.03519827499985695, -0.042953815311193466, -0.04200967773795128, 0.05590750649571419, -0.00020724075147882104, -0.06004676595330238, -0.057065609842538834, -0.03317304328083992, -0.11019410938024521, 0.01289614848792553, -0.0019006006186828017, 0.024327432736754417, -0.042956963181495667, 0.0072011519223451614, -0.038047924637794495, -0.04760449007153511, -0.025324666872620583, -0.009519162587821484, -0.025844242423772812, 0.009107481688261032, 0.022237678989768028, 0.03567072004079819, -0.03658689558506012, 0.06747003644704819, 0.061395905911922455, 0.00578314159065485, -0.013037161901593208, 0.014512673951685429, -0.006275423336774111, 0.021804243326187134, 0.021493999287486076, -0.004960726946592331, -0.00560886412858963, -0.021717406809329987, 0.0001430184202035889, 0.037480756640434265, -0.005797770339995623, 0.016143202781677246, -0.004850820638239384, 0.03589111939072609, -0.05033557862043381, -0.035819247364997864, -0.02845415659248829, 0.02714337222278118, 0.05779239907860756, 0.02719460055232048, 0.03289555385708809, 0.011357898823916912, 0.02904502861201763, 0.001196914236061275, -0.029216701164841652, 0.00023234207765199244, -0.012606214731931686, 0.0240749754011631, 0.05142590031027794, -0.030079631134867668, 0.02718219719827175, -0.03528938069939613, 0.00288550672121346, -0.17273089289665222, -0.029597138985991478, -0.015438033267855644, -0.019433140754699707, 0.014617153443396091, 0.008981716819107533, -0.03731665015220642, 0.008443500846624374, -0.040713608264923096, -0.010499624535441399, -0.008590605109930038, -0.01555630099028349, 0.03619915619492531, -0.01642748713493347, 0.05267038941383362, -0.06299248337745667, -0.048744432628154755, -0.04029107466340065, 0.017507238313555717, 0.03317082300782204, -0.05749297887086868, 0.02701691910624504, 0.022048547863960266, 0.03543374314904213, -0.0036610278766602278, 0.01146283932030201, 0.04662269726395607, 0.047046199440956116, -0.010654294863343239, -0.046269491314888, 0.059566814452409744, 0.0014539103722199798, -0.037058793008327484, 0.01898059993982315, 0.02247048169374466, 0.0355844683945179, 0.042942363768815994, -0.008066616952419281, -0.01607823744416237, -0.07057689875364304, 0.025496669113636017, -0.014525881968438625, -0.0029884050600230694, -0.037588976323604584, 0.013071558438241482, -0.017814096063375473, -0.011601963080465794, 0.038203977048397064, 0.06758255511522293, -0.027227606624364853, 0.03536734730005264, 0.03484959900379181, 0.018498951569199562, -0.047027960419654846, -0.011344825848937035, -0.008854527957737446, -0.0060838195495307446, 0.010964533314108849, -0.009679500944912434, -0.03247101232409477, 0.013983248732984066, -0.0035098588559776545, -0.01684022881090641, 0.015150723978877068, -0.05731917545199394, -0.020789582282304764, -0.03840699419379234, -0.011523909866809845, -0.010643654502928257, 0.026319965720176697, -0.031900547444820404, -0.03982061520218849, 0.015012223273515701, -0.023143921047449112, 0.02201707661151886, -0.007955539040267467, 0.002808154793456197, 0.03141368180513382, -0.022719575092196465, 0.01579488441348076, 0.014760088175535202, -0.016234619542956352, -0.013000944629311562, 0.028422797098755836, 0.02899598889052868, -0.04489833489060402, 0.04465248063206673, -0.01276705414056778, -0.0002479772665537894, -0.014338938519358635, 0.060177743434906006, 0.000591672898735851, 0.056534748524427414, 0.01642538607120514, -0.031250715255737305, -0.015493527054786682, -0.04324367269873619, 0.0005547289038076997, -0.03981566056609154, -0.03676110506057739, 0.062077201902866364, -0.0122408177703619, 0.014608511701226234, 0.033436503261327744, 0.01087163109332323, -0.015676645562052727, 0.07721611112356186, 0.021577220410108566, -0.033246081322431564, -0.044172391295433044, 0.006237012334167957, 0.03685096278786659, -0.002929892623797059, 0.006133876275271177, 0.019953453913331032, 0.06348524242639542, -0.02528844028711319, 0.07531296461820602, 0.04491960629820824, 0.013885311782360077, -0.033836573362350464, -0.004973870702087879, -0.04868488013744354, 0.032130803912878036, -0.02147788740694523, 0.0227435901761055, -0.03326599672436714, 0.0379173681139946, 0.008499610237777233, -0.0018490536604076624, 0.04337356984615326, -0.005596474278718233, -0.04448016732931137, -0.04517635330557823, -0.012049740180373192, 0.01803973689675331, 0.023417670279741287, -0.02656172774732113, -0.05154028534889221, -0.011544969864189625, 0.02215731143951416, 0.009669031016528606, 0.04921343922615051, -0.010840180329978466, -0.05832209438085556, 0.04183541610836983, 0.018250243738293648, 0.03239843621850014, 0.051280427724123, -0.0011327938409522176, -0.003173302626237273, 0.02061029151082039, -0.009438141249120235, 0.02073821611702442, 0.07546863704919815, -0.012094812467694283, 0.039605237543582916, 0.032584644854068756, -0.03745594993233681, 0.003797674784436822, -0.01916131190955639, 0.02061641216278076, 0.02498748153448105, 0.03708973526954651, -0.03759138286113739, 0.01957056112587452, 0.024457275867462158, -0.0165088027715683, 0.10265813767910004, -0.01514986902475357, -0.03045612946152687, 0.044934190809726715, 0.026198500767350197, 0.031863369047641754, 0.01626765914261341, 0.027825260534882545, 0.04847785085439682, -0.026526061818003654, -0.006362794898450375, 0.02566048502922058, 0.032523296773433685, 0.016118289902806282, -0.029851235449314117, 0.030206959694623947, 0.06433764100074768, -0.04799496755003929, 0.04647408425807953, -0.023403022438287735, -0.022770866751670837, 0.028420716524124146, -0.024998757988214493, -0.030432043597102165, 0.01852940209209919, 0.08696173131465912, -0.008977849967777729, -0.026165608316659927, 0.027129411697387695, -0.008472428657114506, 0.0330071747303009, 0.0285103190690279, -0.029768740758299828, 0.016821639612317085, -0.028393814340233803, 0.03390750288963318, -0.0018175573786720634, -0.026704883202910423, 0.058685507625341415, 0.02242666482925415, -0.008482747711241245, 0.02148188278079033, 0.025364678353071213, 0.008779885247349739, 0.04329287260770798, -0.03554101660847664, -0.02134944498538971, 0.006431018002331257, 0.02703283727169037, 0.0412939190864563, 0.002207732293754816, 0.044460639357566833, 0.006444758269935846, 0.004517527297139168, 0.06536740809679031, 0.02608739770948887, -0.014002703130245209, 0.013665463775396347, 0.03541548177599907, 0.03311879187822342, 0.03502523526549339, 0.011287416331470013, -0.0001297527051065117, 0.032634370028972626, 0.010654468089342117, 0.08941297978162766, -0.08042141795158386, 0.021299878135323524, -0.004381041508167982, 0.002522391267120838, -0.044322289526462555, -0.03465912491083145, 0.0005397124332375824, -0.04889513924717903, 0.017800915986299515, -0.011069760657846928, 0.017188914120197296, 0.0036977825220674276, 0.04602210968732834, -0.0005631526000797749, 0.01733793318271637, -0.010813492350280285, 0.021258646622300148, 0.006856414955109358, -0.008806086145341396, 0.016096487641334534, -0.015236204490065575, -0.0076634567230939865, -0.0433521531522274, -0.005700350273400545, 0.03123195469379425, -0.055905040353536606, 0.006917738355696201, 0.028125571087002754, 0.011993000283837318, -0.011974305845797062, 0.040314871817827225, -0.002307208953425288, 0.016900086775422096, 0.01375893410295248, 0.03489387035369873, 0.017277304083108902, -0.041579265147447586, 0.03308158367872238, 0.009609077125787735, -0.010901953093707561, 0.02732129395008087, 0.038182664662599564, 0.010607337579131126, -0.023961706086993217, -0.014011258259415627, 0.07578641921281815, -0.07828005403280258, 0.055093832314014435, 0.019842466339468956, 0.022551404312253, -0.029066165909171104, -0.012838670052587986, 0.08071663975715637, 0.020403672009706497, -0.029147550463676453, -0.017036857083439827, -0.04812880605459213, -0.04182535782456398, 0.011997994966804981, -0.027199069038033485, -0.029970375820994377, -0.028246359899640083, 0.015883442014455795, -0.04008970409631729, -0.02339434064924717, -0.07507266849279404, -0.02182178571820259, 0.014464069157838821, 0.013191906735301018, 0.03152749314904213, -0.0291167963296175, -0.003786710789427161, 0.004128758795559406, -0.041718821972608566, -0.03304673358798027, -0.026398809626698494, 0.016891231760382652, 0.001071946113370359, -0.022053446620702744, 0.06723605841398239, 0.002077518031001091, 0.024276861920952797, -0.021729443222284317, -0.07363416254520416, -0.05716903507709503, -0.02213287353515625, 0.03749311342835426, 0.015816565603017807, 0.014805248007178307, -0.016259407624602318, 0.008999246172606945, -0.00605182908475399, 0.08583451807498932, 0.014310727827250957, -0.07104773074388504, -0.00814923644065857, 0.013203613460063934, 0.02630971185863018, -0.028372298926115036, 0.03806513547897339, 0.016507072374224663, -0.0017439512303099036, -0.027399512007832527, 0.03916696831583977, 0.008017007261514664, -0.03271735459566116, -0.03966470807790756, -0.023441441357135773, 0.029086334630846977, -0.03633136302232742, 0.016688073053956032, -0.008456937037408352, -0.005688292905688286, -0.0041175601072609425, 0.012829525396227837, 0.01339505985379219, 0.022612929344177246, -0.005450662691146135, 0.0696776956319809, -0.01779228262603283, -0.0447189025580883, -0.04457222670316696, -0.041844770312309265, 0.009581652469933033, -0.02977936528623104, -0.009646488353610039, 0.02196168154478073, 0.006904478184878826, -0.02331862784922123, 0.02142375148832798, 0.0345328189432621, -0.03700420260429382, 0.022943265736103058, 0.024382077157497406, 0.01840231381356716, 0.007430069148540497, 0.04263224080204964, 0.008101502433419228, -0.0702471062541008, 0.024434149265289307, 0.016347050666809082, -0.032536182552576065, -0.01007225550711155, 0.009813082404434681, -0.0001832340785767883, 0.0244747307151556, -0.027367832139134407, 0.008539615198969841, -0.037017080932855606, -0.035407282412052155, -0.07688008248806, -0.018833721056580544, -0.03587576001882553, -0.04522315412759781, 0.0173251423984766, -0.0004269834025762975, 0.07370773702859879, 0.013172967359423637, 0.007326510269194841, -0.007506391033530235, 0.014554442837834358, 0.01327743474394083, 0.04042168706655502, 0.005969294346868992, -0.041287776082754135, -0.05146237090229988, 0.0236421599984169, 0.02323644421994686, -0.017878789454698563, 0.017052629962563515, -0.0174881462007761, -0.005997600965201855, 0.03618740290403366, 0.044115886092185974, 0.0573374442756176, 0.016566574573516846, -0.07890654355287552, -0.007228505797684193, -0.051246847957372665, 0.0595608614385128, 0.03621794655919075, -0.01301980298012495, -0.003390838159248233, 0.06012924760580063, 0.011196337640285492, 0.004490970633924007, -0.002111016772687435, -0.005083657801151276, -0.008395629934966564, -0.005975090432912111, 0.04049873352050781, -0.0015162515919655561, 0.003140890970826149, -0.02301703579723835, 0.057733215391635895, -0.011583409272134304, 0.01287094783037901, 0.018144601956009865, -0.008526356890797615, -0.05745694041252136, -0.05595078691840172, 0.02285335771739483, 0.0187635850161314, 0.014284375123679638, 0.05425136908888817, -0.022221442312002182, -0.035376545041799545, -0.04558286815881729, 0.00446068262681365, 0.0632614716887474, -0.019671550020575523, -0.007082395721226931, -0.003358395304530859, -0.03561574965715408, -0.04031801596283913, 0.025077130645513535, -0.015259825624525547, -0.0026466588024049997], metadata={'file_path': '/Users/manishb27/Desktop/KisaanCompanion/data/ogranicFarming.txt', 'file_name': 'ogranicFarming.txt', 'file_type': 'text/plain', 'file_size': 81991, 'creation_date': '2024-12-14', 'last_modified_date': '2024-12-14'}, excluded_embed_metadata_keys=['file_name', 'file_type', 'file_size', 'creation_date', 'last_modified_date', 'last_accessed_date'], excluded_llm_metadata_keys=['file_name', 'file_type', 'file_size', 'creation_date', 'last_modified_date', 'last_accessed_date'], relationships={<NodeRelationship.SOURCE: '1'>: RelatedNodeInfo(node_id='0aa5544a-ccd4-4806-b83e-9b0b8b486e13', node_type='4', metadata={'file_path': '/Users/manishb27/Desktop/KisaanCompanion/data/ogranicFarming.txt', 'file_name': 'ogranicFarming.txt', 'file_type': 'text/plain', 'file_size': 81991, 'creation_date': '2024-12-14', 'last_modified_date': '2024-12-14'}, hash='f42abf9f86312e14cc344f95122c95d54216ec72b569a1759e157e11f1d328ee'), <NodeRelationship.PREVIOUS: '2'>: RelatedNodeInfo(node_id='aa16c461-f731-44ea-80f4-69470fe595f6', node_type='1', metadata={'file_path': '/Users/manishb27/Desktop/KisaanCompanion/data/ogranicFarming.txt', 'file_name': 'ogranicFarming.txt', 'file_type': 'text/plain', 'file_size': 81991, 'creation_date': '2024-12-14', 'last_modified_date': '2024-12-14'}, hash='1270e0487190afb14c49911788692505c052b42c4dcfd058cf81912296d68d09'), <NodeRelationship.NEXT: '3'>: RelatedNodeInfo(node_id='c799428f-c5d6-4e76-87fc-6d0dccba1ed5', node_type='1', metadata={}, hash='1aa53d3d535d90eeadbe8f97aa82ef21e603548029473969cd6052ab7386b410')}, metadata_template='{key}: {value}', metadata_separator='\\n', text=\"[56]\\n\\nMechanical and physical weed control practices used on organic farms can be broadly grouped as:[59]\\n\\nTillage - Turning the soil between crops to incorporate crop residues and soil amendments; remove existing weed growth and prepare a seedbed for planting; turning soil after seeding to kill weeds, including cultivation of row crops.\\nMowing and cutting - Removing top growth of weeds.\\nFlame weeding and thermal weeding - Using heat to kill weeds.\\nMulching - Blocking weed emergence with organic materials, plastic films, or landscape fabric.[60]\\nSome naturally sourced chemicals are allowed for herbicidal use. These include certain formulations of acetic acid (concentrated vinegar), corn gluten meal, and essential oils. A few selective bioherbicides based on fungal pathogens have also been developed. At this time, however, organic herbicides and bioherbicides play a minor role in the organic weed control toolbox.[59]\\n\\nWeeds can be controlled by grazing. For example, geese have been used successfully to weed a range of organic crops including cotton, strawberries, tobacco, and corn,[61] reviving the practice of keeping cotton patch geese, common in the southern U.S. before the 1950s. Similarly, some rice farmers introduce ducks and fish to wet paddy fields to eat both weeds and insects.[62]\\n\\nControlling other organisms\\n\\nChloroxylon is used for pest management in organic rice cultivation in Chhattisgarh, India.\\nSee also: Biological pest control and Integrated Pest Management\\nOrganisms aside from weeds that cause problems on farms include arthropods (e.g., insects, mites), nematodes, fungi and bacteria. Practices include, but are not limited to:\\n\\nExamples of predatory beneficial insects include minute pirate bugs, big-eyed bugs, and to a lesser extent ladybugs (which tend to fly away), all of which eat a wide range of pests. Lacewings are also effective, but tend to fly away. Praying mantis tend to move more slowly and eat less heavily. Parasitoid wasps tend to be effective for their selected prey, but like all small insects can be less effective outdoors because the wind controls their movement. Predatory mites are effective for controlling other mites.[55]:\\u200a66–90\\u200a\\n\\nNaturally derived insecticides allowed for use on organic farms include Bacillus thuringiensis (a bacterial toxin), pyrethrum (a chrysanthemum extract), spinosad (a bacterial metabolite), neem (a tree extract) and rotenone (a legume root extract). Fewer than 10% of organic farmers use these pesticides regularly; a 2003 survey found that only 5.3% of vegetable growers in California use rotenone while 1.7% use pyrethrum.[63]:\\u200a26\\u200a These pesticides are not always more safe or environmentally friendly than synthetic pesticides and can cause harm.[55]:\\u200a92\\u200a The main criterion for organic pesticides is that they are naturally derived, and some naturally derived substances have been controversial. Controversial natural pesticides include rotenone, copper, nicotine sulfate, and pyrethrums[64][65] Rotenone and pyrethrum are particularly controversial because they work by attacking the nervous system, like most conventional insecticides. Rotenone is extremely toxic to fish[66] and can induce symptoms resembling Parkinson's disease in mammals.[67][68] Although pyrethrum (natural pyrethrins) is more effective against insects when used with piperonyl butoxide (which retards degradation of the pyrethrins),[69] organic standards generally do not permit use of the latter substance.[70][71][72]\\n\\nNaturally derived fungicides allowed for use on organic farms include the bacteria Bacillus subtilis and Bacillus pumilus; and the fungus Trichoderma harzianum. These are mainly effective for diseases affecting roots. Compost tea contains a mix of beneficial microbes, which may attack or out-compete certain plant pathogens,[73] but variability among formulations and preparation methods may contribute to inconsistent results or even dangerous growth of toxic microbes in compost teas.[74]\\n\\nSome naturally derived pesticides are not allowed for use on organic farms. These include nicotine sulfate, arsenic, and strychnine.[75]\\n\\nSynthetic pesticides allowed for use on organic farms include insecticidal soaps and horticultural oils for insect management; and Bordeaux mixture, copper hydroxide and sodium bicarbonate for managing fungi.\", mimetype='text/plain', start_char_idx=16513, end_char_idx=20852, metadata_seperator='\\n', text_template='{metadata_str}\\n\\n{content}'), score=0.7692563533782959)], metadata={'c07ff973-78b8-4413-b926-d31628cc6edb': {'file_path': '/Users/manishb27/Desktop/KisaanCompanion/data/ogranicFarming.txt', 'file_name': 'ogranicFarming.txt', 'file_type': 'text/plain', 'file_size': 81991, 'creation_date': '2024-12-14', 'last_modified_date': '2024-12-14'}, '0c83d650-507e-4304-b451-5236065e3434': {'file_path': '/Users/manishb27/Desktop/KisaanCompanion/data/ogranicFarming.txt', 'file_name': 'ogranicFarming.txt', 'file_type': 'text/plain', 'file_size': 81991, 'creation_date': '2024-12-14', 'last_modified_date': '2024-12-14'}})"
      ]
     },
     "execution_count": 36,
     "metadata": {},
     "output_type": "execute_result"
    }
   ],
   "source": [
    "# testing another query\n",
    "response = query_engine.query(\"how do we look at pest problems in organic farming?\")\n",
    "response"
   ]
  },
  {
   "cell_type": "code",
   "execution_count": 38,
   "metadata": {},
   "outputs": [
    {
     "name": "stdout",
     "output_type": "stream",
     "text": [
      "In organic farming, pest problems are viewed differently than in conventional farming. Organic farmers rely on natural methods to control pests, rather than using synthetic pesticides. This means that they need to be more proactive in preventing pests from becoming a problem in the first place.\n",
      "\n",
      "One of the most important things that organic farmers can do to prevent pests is to promote biodiversity on their farms. This means planting a variety of crops, as well as flowers and other plants that attract beneficial insects. Beneficial insects, such as ladybugs and lacewings, can help to control pest populations.\n",
      "\n",
      "Organic farmers also need to be careful about the types of fertilizers and compost they use. Some fertilizers and compost can contain weed seeds or other pests. It is important to use certified organic fertilizers and compost to avoid introducing pests into your garden.\n",
      "\n",
      "Finally, organic farmers need to be prepared to take action if pests do become a problem. There are a number of natural methods that can be used to control pests, such as hand-picking, using insecticidal soap, or releasing beneficial insects.\n",
      "\n",
      "By following these tips, organic farmers can help to prevent pest problems and keep their crops healthy.\n"
     ]
    }
   ],
   "source": [
    "print(response.response)"
   ]
  },
  {
   "cell_type": "code",
   "execution_count": null,
   "metadata": {},
   "outputs": [
    {
     "name": "stdout",
     "output_type": "stream",
     "text": [
      "Newly created corpus name is projects/507105004236/locations/us-central1/ragCorpora/6838716034162098176.\n"
     ]
    }
   ],
   "source": [
    "from llama_index.indices.managed.vertexai import VertexAIIndex\n",
    "\n",
    "# TODO(developer): Replace these values with your project information\n",
    "project_id = \"kisaan-companion-marketplace\"\n",
    "location = \"us-central1\"\n",
    "\n",
    "# Optional: If creating a new corpus\n",
    "corpus_display_name = \"Oragnic Farming information\"\n",
    "corpus_description = \"Vertex AI Corpus for LlamaIndex\"\n",
    "\n",
    "# Create a corpus or provide an existing corpus ID\n",
    "index = VertexAIIndex(\n",
    "    project_id,\n",
    "    location,\n",
    "    corpus_display_name=corpus_display_name,\n",
    "    corpus_description=corpus_description,\n",
    ")\n",
    "print(f\"Newly created corpus name is {index.corpus_name}.\")\n",
    "\n"
   ]
  },
  {
   "cell_type": "code",
   "execution_count": null,
   "metadata": {},
   "outputs": [],
   "source": [
    "# Upload local file\n",
    "file_name = index.insert_file(\n",
    "    file_path=\"/data/ogranicFarming.txt\",\n",
    "    metadata={\n",
    "        \"display_name\": \"organic_farming_wiki\",\n",
    "        \"description\": \"Wiki Pedia Article on ogranic farming\",\n",
    "    },\n",
    ")"
   ]
  },
  {
   "cell_type": "code",
   "execution_count": null,
   "metadata": {},
   "outputs": [],
   "source": [
    "# collecting the ids\n",
    "PROJECT_ID = os.env(\"projectID\") # @param {type:\"string\"}\n",
    "REGION = \"us-central1\"  # @param {type:\"string\"}\n",
    "VS_INDEX_ENDPOINT_NAME = os.getenv(\"endpointName\")  # @param {type:\"string\"}\n",
    "DOC_FOLDER = \"./data\"  # @param {type:\"string\"}\n",
    "GCS_BUCKET = os.getenv(\"bucketName\")  # @param {type:\"string\"}\n",
    "VS_INDEX_NAME = os.getenv(\"vs_index_name\")  # @param {type:\"string\"}\n",
    "VS_INDEX_ENDPOINT_NAME = os.getenv(\"VS_INDEX_ENDPOINT_NAME\")  # @param {type:\"string\"}\n",
    "\n",
    "vertexai.init(project=PROJECT_ID, location=REGION)"
   ]
  },
  {
   "cell_type": "code",
   "execution_count": null,
   "metadata": {},
   "outputs": [],
   "source": [
    "# Imports\n",
    "import os\n",
    "import vertexai\n",
    "from google.cloud import aiplatform, storage\n",
    "from langchain import hub\n",
    "from llama_index.core import (\n",
    "    Document,\n",
    "    PromptTemplate,\n",
    "    Settings,\n",
    "    SimpleDirectoryReader,\n",
    "    StorageContext,\n",
    "    SummaryIndex,\n",
    "    VectorStoreIndex,\n",
    ")\n",
    "from llama_index.core.agent import ReActAgent\n",
    "from llama_index.core.base.base_query_engine import BaseQueryEngine\n",
    "from llama_index.core.node_parser import SentenceSplitter\n",
    "from llama_index.core.objects import ObjectIndex\n",
    "from llama_index.core.prompts import LangchainPromptTemplate\n",
    "from llama_index.core.prompts.base import BasePromptTemplate\n",
    "from llama_index.core.tools import QueryEngineTool, ToolMetadata\n",
    "from llama_index.embeddings.vertex import VertexTextEmbedding\n",
    "from llama_index.llms.vertex import Vertex\n",
    "from llama_index.vector_stores.vertexaivectorsearch import VertexAIVectorStore"
   ]
  },
  {
   "cell_type": "code",
   "execution_count": null,
   "metadata": {},
   "outputs": [],
   "source": [
    "# creating the required buckets and indexes\n",
    "\n",
    "def create_bucket_class_location(bucket_name: str) -> storage.Bucket:\n",
    "    \"\"\"\n",
    "    Create a new bucket in the US region with the coldline storage\n",
    "    class.\n",
    "    \"\"\"\n",
    "    storage_client = storage.Client()\n",
    "\n",
    "    # Searching for existing GCS bucket\n",
    "    for bucket in storage_client.list_buckets():\n",
    "        if bucket.name == bucket_name:\n",
    "            print(f\"GCS Bucket {bucket_name} exists already in resource.\")\n",
    "            return bucket\n",
    "\n",
    "    # Creating new bucket\n",
    "    bucket = storage_client.bucket(bucket_name)\n",
    "    bucket.storage_class = \"STANDARD\"\n",
    "    new_bucket = storage_client.create_bucket(bucket, location=REGION)\n",
    "\n",
    "    print(\n",
    "        f\"Created bucket {new_bucket.name} in {new_bucket.location} with storage class {new_bucket.storage_class}\"\n",
    "    )\n",
    "\n",
    "    return new_bucket\n",
    "\n",
    "\n",
    "def create_vector_search_index(\n",
    "    index_name: str, index_dimensions: int\n",
    ") -> aiplatform.MatchingEngineIndex:\n",
    "    \"\"\"\n",
    "    Creates a Vector Index\n",
    "    NOTE : This operation can take upto 30 minutes\n",
    "    \"\"\"\n",
    "\n",
    "    # check if index exists\n",
    "    index_names = [\n",
    "        index.resource_name\n",
    "        for index in aiplatform.MatchingEngineIndex.list(\n",
    "            filter=f\"display_name={index_name}\"\n",
    "        )\n",
    "    ]\n",
    "\n",
    "    if len(index_names) == 0:\n",
    "        print(f\"Creating Vector Search index {index_name} ...\")\n",
    "        vs_index = aiplatform.MatchingEngineIndex.create_tree_ah_index(\n",
    "            display_name=index_name,\n",
    "            dimensions=index_dimensions,\n",
    "            # distance_measure_type=\"DOT_PRODUCT_DISTANCE\",\n",
    "            shard_size=\"SHARD_SIZE_SMALL\",\n",
    "            index_update_method=\"STREAM_UPDATE\",  # allowed values BATCH_UPDATE , STREAM_UPDATE,\n",
    "            approximate_neighbors_count=5,\n",
    "        )\n",
    "        print(\n",
    "            f\"Vector Search index {vs_index.display_name} created with resource name {vs_index.resource_name}\"\n",
    "        )\n",
    "    else:\n",
    "        vs_index = aiplatform.MatchingEngineIndex(index_name=index_names[0])\n",
    "        print(\n",
    "            f\"Vector Search index {vs_index.display_name} exists with resource name {vs_index.resource_name}\"\n",
    "        )\n",
    "\n",
    "    return vs_index\n",
    "\n",
    "\n",
    "# Create a new bucket in the US region with the coldline storage class\n",
    "def create_vector_search_endpoint(\n",
    "    endpoint_name: str,\n",
    ") -> aiplatform.MatchingEngineIndexEndpoint:\n",
    "    \"\"\"\n",
    "    Creates a Vector Search endpoint.\n",
    "    \"\"\"\n",
    "    endpoint_names = [\n",
    "        endpoint.resource_name\n",
    "        for endpoint in aiplatform.MatchingEngineIndexEndpoint.list(\n",
    "            filter=f\"display_name={endpoint_name}\"\n",
    "        )\n",
    "    ]\n",
    "\n",
    "    if len(endpoint_names) == 0:\n",
    "        print(f\"Creating Vector Search index endpoint {endpoint_name} ...\")\n",
    "        vs_endpoint = aiplatform.MatchingEngineIndexEndpoint.create(\n",
    "            display_name=endpoint_name, public_endpoint_enabled=True\n",
    "        )\n",
    "        print(\n",
    "            f\"Vector Search index endpoint {vs_endpoint.display_name} created with resource name {vs_endpoint.resource_name}\"\n",
    "        )\n",
    "    else:\n",
    "        vs_endpoint = aiplatform.MatchingEngineIndexEndpoint(\n",
    "            index_endpoint_name=endpoint_names[0]\n",
    "        )\n",
    "        print(\n",
    "            f\"Vector Search index endpoint {vs_endpoint.display_name} exists with resource name {vs_endpoint.resource_name}\"\n",
    "        )\n",
    "\n",
    "    return vs_endpoint\n",
    "\n",
    "\n",
    "# Deploy the Vector Search endpoint\n",
    "\n",
    "def deploy_vector_search_endpoint(\n",
    "    vs_index: aiplatform.MatchingEngineIndex,\n",
    "    vs_endpoint: aiplatform.MatchingEngineIndexEndpoint,\n",
    "    index_name: str,\n",
    ") -> aiplatform.MatchingEngineIndexEndpoint:\n",
    "    \"\"\"\n",
    "    Deploys a Vector Search endpoint.\n",
    "    \"\"\"\n",
    "    # check if endpoint exists\n",
    "    index_endpoints = [\n",
    "        (deployed_index.index_endpoint, deployed_index.deployed_index_id)\n",
    "        for deployed_index in vs_index.deployed_indexes\n",
    "    ]\n",
    "\n",
    "    if len(index_endpoints) == 0:\n",
    "        print(\n",
    "            f\"Deploying Vector Search index {vs_index.display_name} at endpoint {vs_endpoint.display_name} ...\"\n",
    "        )\n",
    "        vs_deployed_index = vs_endpoint.deploy_index(\n",
    "            index=vs_index,\n",
    "            deployed_index_id=index_name,\n",
    "            display_name=index_name,\n",
    "            machine_type=\"e2-standard-16\",\n",
    "            min_replica_count=1,\n",
    "            max_replica_count=1,\n",
    "        )\n",
    "        print(\n",
    "            f\"Vector Search index {vs_index.display_name} is deployed at endpoint {vs_deployed_index.display_name}\"\n",
    "        )\n",
    "    else:\n",
    "        vs_deployed_index = aiplatform.MatchingEngineIndexEndpoint(\n",
    "            index_endpoint_name=index_endpoints[0][0]\n",
    "        )\n",
    "        print(\n",
    "            f\"Vector Search index {vs_index.display_name} is already deployed at endpoint {vs_deployed_index.display_name}\"\n",
    "        )\n",
    "\n",
    "    return vs_deployed_index"
   ]
  },
  {
   "cell_type": "code",
   "execution_count": null,
   "metadata": {},
   "outputs": [],
   "source": [
    "# Set up the environment\n",
    "def setup():\n",
    "    # The number of dimensions for the gecko text embeddings is 768\n",
    "    VS_DIMENSIONS = 768\n",
    "    # Vertex AI Vector Search Index configuration\n",
    "\n",
    "    aiplatform.init(project=PROJECT_ID, location=REGION)\n",
    "\n",
    "    GCS_BUCKET_URI = f\"gs://{GCS_BUCKET}\"\n",
    "    new_bucket = create_bucket_class_location(GCS_BUCKET)\n",
    "    vs_index = create_vector_search_index(VS_INDEX_NAME, VS_DIMENSIONS)\n",
    "    vs_endpoint = create_vector_search_endpoint(VS_INDEX_ENDPOINT_NAME)\n",
    "    vs_deployed_index = deploy_vector_search_endpoint(\n",
    "        vs_index, vs_endpoint, VS_INDEX_NAME\n",
    "    )\n",
    "\n",
    "    return new_bucket, vs_index, vs_endpoint, vs_deployed_index"
   ]
  },
  {
   "cell_type": "code",
   "execution_count": null,
   "metadata": {},
   "outputs": [],
   "source": [
    "os.environ[\"GOOGLE_APPLICATION_CREDENTIALS\"] = \"/key.json\""
   ]
  },
  {
   "cell_type": "code",
   "execution_count": null,
   "metadata": {},
   "outputs": [],
   "source": [
    "# Set up the environment and initialize the LLM and storage\n",
    "def initialize_llm_and_storage(\n",
    "    vs_index: aiplatform.MatchingEngineIndex,\n",
    "    vs_endpoint: aiplatform.MatchingEngineIndexEndpoint,\n",
    ") -> StorageContext:\n",
    "    \"\"\"\n",
    "    Initializes Vertex AI Vector Store given a Vector Search index and deployed endpoint.\n",
    "    Configures embedding and LLMs models to be gecko and Gemini.\n",
    "    \"\"\"\n",
    "    # setup storage\n",
    "    vector_store = VertexAIVectorStore(\n",
    "        project_id=PROJECT_ID,\n",
    "        region=REGION,\n",
    "        index_id=vs_index.resource_name,\n",
    "        endpoint_id=vs_endpoint.resource_name,\n",
    "        gcs_bucket_name=GCS_BUCKET,\n",
    "    )\n",
    "\n",
    "    # set storage context\n",
    "    storage_context = StorageContext.from_defaults(vector_store=vector_store)\n",
    "\n",
    "    # Initialize the Vertex AI model\n",
    "    llm = Vertex(\n",
    "        model=\"gemini-pro\",  # Specify the model, e.g., \"text-bison\" or \"gemini-pro\"\n",
    "        project=credentials.project_id,\n",
    "        credentials=credentials,\n",
    "        temperature=0.0,  # Adjust as needed\n",
    "        additional_kwargs={}\n",
    "    )\n",
    "    Settings.llm = llm\n",
    "\n",
    "    model_name = \"models/text-embedding-004\"\n",
    "\n",
    "    embed_model_gemini = GeminiEmbedding(\n",
    "        model_name=model_name, api_key=goog_api_key\n",
    "    )\n",
    "\n",
    "    Settings.embed_model = embed_model_gemini\n",
    "\n",
    "\n",
    "    return storage_context"
   ]
  },
  {
   "cell_type": "code",
   "execution_count": null,
   "metadata": {},
   "outputs": [],
   "source": [
    "# Load the data from the directory\n",
    "data_folder = 'data'\n",
    "(bucket, vs_index, vs_endpoint, deployed_endpoint) = setup()\n",
    "storage_context = initialize_llm_and_storage(vs_index, vs_endpoint)\n",
    "docs = SimpleDirectoryReader(data_folder).load_data()"
   ]
  },
  {
   "cell_type": "code",
   "execution_count": null,
   "metadata": {},
   "outputs": [],
   "source": [
    "index = VectorStoreIndex.from_documents(\n",
    "    docs, storage_context=storage_context\n",
    ")"
   ]
  },
  {
   "cell_type": "code",
   "execution_count": null,
   "metadata": {},
   "outputs": [],
   "source": [
    "# create a query engine and query\n",
    "query_engine = index.as_query_engine()\n",
    "response = query_engine.query(\"What is the core principle of organic production?\")\n",
    "print(response)"
   ]
  },
  {
   "cell_type": "code",
   "execution_count": 33,
   "metadata": {},
   "outputs": [
    {
     "name": "stdout",
     "output_type": "stream",
     "text": [
      "Upserting datapoints MatchingEngineIndex index: projects/507105004236/locations/us-central1/indexes/8892458619312799744\n",
      "MatchingEngineIndex index Upserted datapoints. Resource name: projects/507105004236/locations/us-central1/indexes/8892458619312799744\n"
     ]
    }
   ],
   "source": [
    "# create your index\n",
    "index = VectorStoreIndex.from_documents(\n",
    "    docs, storage_context=storage_context\n",
    ")"
   ]
  },
  {
   "cell_type": "code",
   "execution_count": 34,
   "metadata": {},
   "outputs": [
    {
     "name": "stdout",
     "output_type": "stream",
     "text": [
      "The core principle of organic production is to use naturally occurring, non-synthetic inputs such as compost manure, green manure, and bone meal. Organic farming also emphasizes techniques such as crop rotation, companion planting, and mixed cropping. Biological pest control methods such as the fostering of insect predators are also encouraged.\n"
     ]
    }
   ],
   "source": [
    "# create a query engine and query\n",
    "query_engine = index.as_query_engine()\n",
    "response = query_engine.query(\"What is the core principle of organic production?\")\n",
    "print(response)"
   ]
  },
  {
   "cell_type": "code",
   "execution_count": null,
   "metadata": {},
   "outputs": [],
   "source": []
  }
 ],
 "metadata": {
  "kernelspec": {
   "display_name": ".venv",
   "language": "python",
   "name": "python3"
  },
  "language_info": {
   "codemirror_mode": {
    "name": "ipython",
    "version": 3
   },
   "file_extension": ".py",
   "mimetype": "text/x-python",
   "name": "python",
   "nbconvert_exporter": "python",
   "pygments_lexer": "ipython3",
   "version": "3.11.7"
  }
 },
 "nbformat": 4,
 "nbformat_minor": 2
}
