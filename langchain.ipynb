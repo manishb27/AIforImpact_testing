{
 "cells": [
  {
   "cell_type": "code",
   "execution_count": null,
   "metadata": {},
   "outputs": [],
   "source": [
    "from langchain_google_genai import ChatGoogleGenerativeAI\n",
    "\n",
    "llm = ChatGoogleGenerativeAI(model=\"gemini-pro\")\n",
    "llm.invoke(\"Sing a ballad of LangChain.\")"
   ]
  },
  {
   "cell_type": "code",
   "execution_count": null,
   "metadata": {},
   "outputs": [],
   "source": [
    "from langchain_core.messages import HumanMessage\n",
    "from langchain_google_genai import ChatGoogleGenerativeAI\n",
    "\n",
    "llm = ChatGoogleGenerativeAI(model=\"gemini-pro-vision\")\n",
    "\n",
    "message = HumanMessage(\n",
    "    content=[\n",
    "        {\n",
    "            \"type\": \"text\",\n",
    "            \"text\": \"What's in this image?\",\n",
    "        },  # You can optionally provide text parts\n",
    "        {\"type\": \"image_url\", \"image_url\": \"https://picsum.photos/seed/picsum/200/300\"},\n",
    "    ]\n",
    ")\n",
    "llm.invoke([message])"
   ]
  },
  {
   "cell_type": "code",
   "execution_count": null,
   "metadata": {},
   "outputs": [],
   "source": [
    "from langchain_core.messages import HumanMessage\n",
    "from langchain_google_genai import ChatGoogleGenerativeAI\n",
    "\n",
    "llm = ChatGoogleGenerativeAI(model=\"gemini-pro-vision\")\n",
    "\n",
    "message = HumanMessage(\n",
    "    content=[\n",
    "        {\n",
    "            \"type\": \"text\",\n",
    "            \"text\": \"What's in this image?\",\n",
    "        },  # You can optionally provide text parts\n",
    "        {\"type\": \"image_url\", \"image_url\": \"https://picsum.photos/seed/picsum/200/300\"},\n",
    "    ]\n",
    ")\n",
    "llm.invoke([message])"
   ]
  },
  {
   "cell_type": "code",
   "execution_count": null,
   "metadata": {},
   "outputs": [],
   "source": [
    "# from langchain_core.messages import HumanMessage\n",
    "from langchain_google_vertexai import ChatVertexAI\n",
    "from langchain_google_vertexai.model_garden_maas.llama import VertexModelGardenLlama"
   ]
  },
  {
   "cell_type": "code",
   "execution_count": null,
   "metadata": {},
   "outputs": [],
   "source": [
    "from google import genai\n",
    "import os\n",
    "\n",
    "# Set the environment variables\n",
    "PROJECT_ID = os.getenv(\"PROJECT_ID\")\n",
    "REGION = \"asia-south1\"\n",
    "\n",
    "# Create a client\n",
    "client = genai.Client(\n",
    "    vertexai=True, project=PROJECT_ID, location=REGION\n",
    ")\n",
    "\n"
   ]
  },
  {
   "cell_type": "code",
   "execution_count": null,
   "metadata": {},
   "outputs": [
    {
     "name": "stdout",
     "output_type": "stream",
     "text": [
      "## How AI Works: A Simplified Explanation\n",
      "\n",
      "While the concept of AI might seem magical, it boils down to clever algorithms and massive amounts of data. Here's a simplified breakdown:\n",
      "\n",
      "**1. Data Collection & Preparation:**  AI thrives on data. This could be anything – text, images, videos, numbers, etc. The first step involves gathering relevant data and \"cleaning\" it for the AI to understand. This might mean removing errors, formatting it correctly, or labeling images.\n",
      "\n",
      "**2. Choosing the Right Algorithm:**  Think of algorithms as recipes for AI. Different algorithms are suited to different tasks. For example:\n",
      "\n",
      "   * **Machine Learning (ML):** This popular type of AI allows systems to learn patterns from data and improve their performance over time without explicit programming. Popular ML algorithms include:\n",
      "      * **Supervised Learning:**  Learning from labeled data (e.g., classifying emails as spam or not spam).\n",
      "      * **Unsupervised Learning:** Finding hidden patterns in unlabeled data (e.g., grouping customers based on purchasing behavior).\n",
      "      * **Reinforcement Learning:**  Learning through trial-and-error by interacting with an environment (e.g., training a robot to navigate a maze).\n",
      "   * **Deep Learning (DL):**  A subset of ML using artificial neural networks with multiple layers. It excels at processing complex data like images, sound, and natural language (e.g., powering facial recognition software).\n",
      "\n",
      "**3. Training the AI:** This is where the magic happens! The chosen algorithm is fed the prepared data, allowing it to learn patterns and relationships. The AI system adjusts its internal parameters to optimize its performance on the given task.\n",
      "\n",
      "**4. Evaluation and Refinement:** After training, the AI is tested on new, unseen data to evaluate its accuracy and performance. If needed, adjustments are made to the algorithm, data, or training process to improve results.\n",
      "\n",
      "**5. Deployment and Application:** Once the AI system achieves satisfactory performance, it can be deployed to perform its intended task – whether it's recommending products, translating languages, or driving autonomous vehicles.\n",
      "\n",
      "**In a Nutshell:**\n",
      "\n",
      "AI mimics human intelligence by learning from data, recognizing patterns, and making decisions. It relies on powerful algorithms, vast amounts of data, and iterative training processes to achieve impressive results. While the underlying technology can be complex, the basic principles are surprisingly intuitive.\n",
      "\n"
     ]
    }
   ],
   "source": [
    "# Generate content using the model\n",
    "response = client.models.generate_content(\n",
    "    model='gemini-1.5-pro', contents='How does AI work?'\n",
    ")\n",
    "print(response.text)\n"
   ]
  }
 ],
 "metadata": {
  "kernelspec": {
   "display_name": ".venv",
   "language": "python",
   "name": "python3"
  },
  "language_info": {
   "codemirror_mode": {
    "name": "ipython",
    "version": 3
   },
   "file_extension": ".py",
   "mimetype": "text/x-python",
   "name": "python",
   "nbconvert_exporter": "python",
   "pygments_lexer": "ipython3",
   "version": "3.11.7"
  }
 },
 "nbformat": 4,
 "nbformat_minor": 2
}
